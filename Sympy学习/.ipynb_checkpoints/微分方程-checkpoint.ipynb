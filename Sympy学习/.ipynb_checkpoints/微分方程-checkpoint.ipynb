{
 "cells": [
  {
   "cell_type": "code",
   "execution_count": 1,
   "metadata": {},
   "outputs": [],
   "source": [
    "from sympy.abc import x,t\n",
    "from sympy import *#Function, dsolve, Eq, Derivative\n",
    "f = Function('f')"
   ]
  },
  {
   "cell_type": "code",
   "execution_count": 4,
   "metadata": {},
   "outputs": [],
   "source": [
    "q = Eq(f(t).diff(t,2)+f(t),abs(3*sin(2*t)))"
   ]
  },
  {
   "cell_type": "code",
   "execution_count": 5,
   "metadata": {},
   "outputs": [
    {
     "data": {
      "text/latex": [
       "$\\displaystyle f{\\left(t \\right)} + \\frac{d^{2}}{d t^{2}} f{\\left(t \\right)} = 3 \\left|{\\sin{\\left(2 t \\right)}}\\right|$"
      ],
      "text/plain": [
       "Eq(f(t) + Derivative(f(t), (t, 2)), 3*Abs(sin(2*t)))"
      ]
     },
     "execution_count": 5,
     "metadata": {},
     "output_type": "execute_result"
    }
   ],
   "source": [
    "q"
   ]
  },
  {
   "cell_type": "code",
   "execution_count": 6,
   "metadata": {},
   "outputs": [
    {
     "data": {
      "text/latex": [
       "$\\displaystyle f{\\left(t \\right)} = \\left(C_{1} - 3 \\int \\sin{\\left(t \\right)} \\left|{\\sin{\\left(2 t \\right)}}\\right|\\, dt\\right) \\cos{\\left(t \\right)} + \\left(C_{2} + 3 \\int \\cos{\\left(t \\right)} \\left|{\\sin{\\left(2 t \\right)}}\\right|\\, dt\\right) \\sin{\\left(t \\right)}$"
      ],
      "text/plain": [
       "Eq(f(t), (C1 - 3*Integral(sin(t)*Abs(sin(2*t)), t))*cos(t) + (C2 + 3*Integral(cos(t)*Abs(sin(2*t)), t))*sin(t))"
      ]
     },
     "execution_count": 6,
     "metadata": {},
     "output_type": "execute_result"
    }
   ],
   "source": [
    "dsolve(q)"
   ]
  },
  {
   "cell_type": "code",
   "execution_count": 7,
   "metadata": {},
   "outputs": [],
   "source": [
    "q = Eq((4*x-1)*f(x).diff(x,2)-2*(4*x-1)*f(x).diff(x)+8*f(x),0)"
   ]
  },
  {
   "cell_type": "code",
   "execution_count": 8,
   "metadata": {},
   "outputs": [
    {
     "data": {
      "text/latex": [
       "$\\displaystyle \\left(4 x - 1\\right) \\frac{d^{2}}{d x^{2}} f{\\left(x \\right)} - \\left(8 x - 2\\right) \\frac{d}{d x} f{\\left(x \\right)} + 8 f{\\left(x \\right)} = 0$"
      ],
      "text/plain": [
       "Eq((4*x - 1)*Derivative(f(x), (x, 2)) - (8*x - 2)*Derivative(f(x), x) + 8*f(x), 0)"
      ]
     },
     "execution_count": 8,
     "metadata": {},
     "output_type": "execute_result"
    }
   ],
   "source": [
    "q"
   ]
  },
  {
   "cell_type": "code",
   "execution_count": 11,
   "metadata": {},
   "outputs": [
    {
     "data": {
      "text/plain": [
       "{'2nd_power_series_ordinary': Eq(f(x), C2*(52*x**4/3 + 8*x**3 + 4*x**2 + 1) + C1*x*(13*x**3/3 + 2*x**2 + x + 1) + O(x**6)),\n",
       " 'best': Eq(f(x), C2*(52*x**4/3 + 8*x**3 + 4*x**2 + 1) + C1*x*(13*x**3/3 + 2*x**2 + x + 1) + O(x**6)),\n",
       " 'best_hint': '2nd_power_series_ordinary',\n",
       " 'default': '2nd_power_series_ordinary',\n",
       " 'order': 2}"
      ]
     },
     "execution_count": 11,
     "metadata": {},
     "output_type": "execute_result"
    }
   ],
   "source": [
    "dsolve(q,hint=\"all\")"
   ]
  },
  {
   "cell_type": "code",
   "execution_count": 9,
   "metadata": {},
   "outputs": [],
   "source": [
    "inte = Integral(1/2*t**5*exp(t),t)\n",
    "i1 = integrate(inte)"
   ]
  },
  {
   "cell_type": "code",
   "execution_count": 10,
   "metadata": {},
   "outputs": [],
   "source": [
    "inte = Integral(-t**4*exp(t),t)\n",
    "i2 =integrate(inte)"
   ]
  },
  {
   "cell_type": "code",
   "execution_count": 11,
   "metadata": {},
   "outputs": [],
   "source": [
    "inte = Integral(1/2*t**3*exp(t),t)\n",
    "i3 = integrate(inte)"
   ]
  },
  {
   "cell_type": "code",
   "execution_count": 13,
   "metadata": {},
   "outputs": [
    {
     "data": {
      "text/latex": [
       "$\\displaystyle \\left(0.5 t^{5} - 6.0 t^{4} + 38.5 t^{3} - 159.0 t^{2} + 405.0 t - 492.0\\right) e^{t}$"
      ],
      "text/plain": [
       "(0.5*t**5 - 6.0*t**4 + 38.5*t**3 - 159.0*t**2 + 405.0*t - 492.0)*exp(t)"
      ]
     },
     "execution_count": 13,
     "metadata": {},
     "output_type": "execute_result"
    }
   ],
   "source": [
    "isum = i1+i2+i3\n",
    "simplify(isum)"
   ]
  },
  {
   "cell_type": "code",
   "execution_count": 8,
   "metadata": {},
   "outputs": [
    {
     "data": {
      "text/latex": [
       "$\\displaystyle f{\\left(x \\right)} = x \\left(C_{1} + C_{2} x + C_{3} x^{2} + e^{x}\\right)$"
      ],
      "text/plain": [
       "Eq(f(x), x*(C1 + C2*x + C3*x**2 + exp(x)))"
      ]
     },
     "execution_count": 8,
     "metadata": {},
     "output_type": "execute_result"
    }
   ],
   "source": [
    "q = Eq(x**3*f(x).diff(x,3)-3*x**2*f(x).diff(x,2)+6*x*f(x).diff()-6*f(x),x**4*exp(x))\n",
    "dsolve(q)"
   ]
  },
  {
   "cell_type": "code",
   "execution_count": 6,
   "metadata": {},
   "outputs": [
    {
     "ename": "NotImplementedError",
     "evalue": "solve: Cannot solve -x**2 - f(x)**2 + Derivative(f(x), (x, 2))",
     "output_type": "error",
     "traceback": [
      "\u001b[1;31m---------------------------------------------------------------------------\u001b[0m",
      "\u001b[1;31mNotImplementedError\u001b[0m                       Traceback (most recent call last)",
      "\u001b[1;32m<ipython-input-6-fde1025319d0>\u001b[0m in \u001b[0;36m<module>\u001b[1;34m\u001b[0m\n\u001b[0;32m      3\u001b[0m \u001b[0my\u001b[0m \u001b[1;33m=\u001b[0m \u001b[0mFunction\u001b[0m\u001b[1;33m(\u001b[0m\u001b[1;34m'f'\u001b[0m\u001b[1;33m)\u001b[0m\u001b[1;33m\u001b[0m\u001b[0m\n\u001b[0;32m      4\u001b[0m \u001b[0mfunc\u001b[0m \u001b[1;33m=\u001b[0m \u001b[0mEq\u001b[0m\u001b[1;33m(\u001b[0m\u001b[0my\u001b[0m\u001b[1;33m(\u001b[0m\u001b[0mx\u001b[0m\u001b[1;33m)\u001b[0m\u001b[1;33m.\u001b[0m\u001b[0mdiff\u001b[0m\u001b[1;33m(\u001b[0m\u001b[0mx\u001b[0m\u001b[1;33m,\u001b[0m\u001b[1;36m2\u001b[0m\u001b[1;33m)\u001b[0m\u001b[1;33m,\u001b[0m\u001b[0mx\u001b[0m\u001b[1;33m**\u001b[0m\u001b[1;36m2\u001b[0m\u001b[1;33m+\u001b[0m\u001b[0my\u001b[0m\u001b[1;33m(\u001b[0m\u001b[0mx\u001b[0m\u001b[1;33m)\u001b[0m\u001b[1;33m**\u001b[0m\u001b[1;36m2\u001b[0m\u001b[1;33m)\u001b[0m\u001b[1;33m\u001b[0m\u001b[0m\n\u001b[1;32m----> 5\u001b[1;33m \u001b[0mdsolve\u001b[0m\u001b[1;33m(\u001b[0m\u001b[0mfunc\u001b[0m\u001b[1;33m)\u001b[0m\u001b[1;33m\u001b[0m\u001b[0m\n\u001b[0m",
      "\u001b[1;32m~\\AppData\\Roaming\\Python\\Python37\\site-packages\\sympy\\solvers\\ode.py\u001b[0m in \u001b[0;36mdsolve\u001b[1;34m(eq, func, hint, simplify, ics, xi, eta, x0, n, **kwargs)\u001b[0m\n\u001b[0;32m    644\u001b[0m         hints = _desolve(eq, func=func,\n\u001b[0;32m    645\u001b[0m             \u001b[0mhint\u001b[0m\u001b[1;33m=\u001b[0m\u001b[0mhint\u001b[0m\u001b[1;33m,\u001b[0m \u001b[0msimplify\u001b[0m\u001b[1;33m=\u001b[0m\u001b[1;32mTrue\u001b[0m\u001b[1;33m,\u001b[0m \u001b[0mxi\u001b[0m\u001b[1;33m=\u001b[0m\u001b[0mxi\u001b[0m\u001b[1;33m,\u001b[0m \u001b[0meta\u001b[0m\u001b[1;33m=\u001b[0m\u001b[0meta\u001b[0m\u001b[1;33m,\u001b[0m \u001b[0mtype\u001b[0m\u001b[1;33m=\u001b[0m\u001b[1;34m'ode'\u001b[0m\u001b[1;33m,\u001b[0m \u001b[0mics\u001b[0m\u001b[1;33m=\u001b[0m\u001b[0mics\u001b[0m\u001b[1;33m,\u001b[0m\u001b[1;33m\u001b[0m\u001b[0m\n\u001b[1;32m--> 646\u001b[1;33m             x0=x0, n=n, **kwargs)\n\u001b[0m\u001b[0;32m    647\u001b[0m         \u001b[0meq\u001b[0m \u001b[1;33m=\u001b[0m \u001b[0mhints\u001b[0m\u001b[1;33m.\u001b[0m\u001b[0mpop\u001b[0m\u001b[1;33m(\u001b[0m\u001b[1;34m'eq'\u001b[0m\u001b[1;33m,\u001b[0m \u001b[0meq\u001b[0m\u001b[1;33m)\u001b[0m\u001b[1;33m\u001b[0m\u001b[0m\n\u001b[0;32m    648\u001b[0m         \u001b[0mall_\u001b[0m \u001b[1;33m=\u001b[0m \u001b[0mhints\u001b[0m\u001b[1;33m.\u001b[0m\u001b[0mpop\u001b[0m\u001b[1;33m(\u001b[0m\u001b[1;34m'all'\u001b[0m\u001b[1;33m,\u001b[0m \u001b[1;32mFalse\u001b[0m\u001b[1;33m)\u001b[0m\u001b[1;33m\u001b[0m\u001b[0m\n",
      "\u001b[1;32m~\\AppData\\Roaming\\Python\\Python37\\site-packages\\sympy\\solvers\\deutils.py\u001b[0m in \u001b[0;36m_desolve\u001b[1;34m(eq, func, hint, ics, simplify, **kwargs)\u001b[0m\n\u001b[0;32m    242\u001b[0m                 str(eq) + \" is not a solvable differential equation in \" + str(func))\n\u001b[0;32m    243\u001b[0m         \u001b[1;32melse\u001b[0m\u001b[1;33m:\u001b[0m\u001b[1;33m\u001b[0m\u001b[0m\n\u001b[1;32m--> 244\u001b[1;33m             \u001b[1;32mraise\u001b[0m \u001b[0mNotImplementedError\u001b[0m\u001b[1;33m(\u001b[0m\u001b[0mdummy\u001b[0m \u001b[1;33m+\u001b[0m \u001b[1;34m\"solve\"\u001b[0m \u001b[1;33m+\u001b[0m \u001b[1;34m\": Cannot solve \"\u001b[0m \u001b[1;33m+\u001b[0m \u001b[0mstr\u001b[0m\u001b[1;33m(\u001b[0m\u001b[0meq\u001b[0m\u001b[1;33m)\u001b[0m\u001b[1;33m)\u001b[0m\u001b[1;33m\u001b[0m\u001b[0m\n\u001b[0m\u001b[0;32m    245\u001b[0m     \u001b[1;32mif\u001b[0m \u001b[0mhint\u001b[0m \u001b[1;33m==\u001b[0m \u001b[1;34m'default'\u001b[0m\u001b[1;33m:\u001b[0m\u001b[1;33m\u001b[0m\u001b[0m\n\u001b[0;32m    246\u001b[0m         return _desolve(eq, func, ics=ics, hint=hints['default'], simplify=simplify,\n",
      "\u001b[1;31mNotImplementedError\u001b[0m: solve: Cannot solve -x**2 - f(x)**2 + Derivative(f(x), (x, 2))"
     ]
    }
   ],
   "source": []
  },
  {
   "cell_type": "code",
   "execution_count": null,
   "metadata": {},
   "outputs": [],
   "source": []
  }
 ],
 "metadata": {
  "kernelspec": {
   "display_name": "Python 3",
   "language": "python",
   "name": "python3"
  },
  "language_info": {
   "codemirror_mode": {
    "name": "ipython",
    "version": 3
   },
   "file_extension": ".py",
   "mimetype": "text/x-python",
   "name": "python",
   "nbconvert_exporter": "python",
   "pygments_lexer": "ipython3",
   "version": "3.7.0"
  }
 },
 "nbformat": 4,
 "nbformat_minor": 4
}
