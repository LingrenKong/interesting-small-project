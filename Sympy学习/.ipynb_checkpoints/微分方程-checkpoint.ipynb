{
 "cells": [
  {
   "cell_type": "code",
   "execution_count": 3,
   "metadata": {},
   "outputs": [],
   "source": [
    "from sympy.abc import x,t\n",
    "from sympy import *#Function, dsolve, Eq, Derivative\n",
    "f = Function('f')"
   ]
  },
  {
   "cell_type": "code",
   "execution_count": 4,
   "metadata": {},
   "outputs": [],
   "source": [
    "q = Eq(f(t).diff(t,2)+f(t),abs(3*sin(2*t)))"
   ]
  },
  {
   "cell_type": "code",
   "execution_count": 5,
   "metadata": {},
   "outputs": [
    {
     "data": {
      "text/latex": [
       "$\\displaystyle f{\\left(t \\right)} + \\frac{d^{2}}{d t^{2}} f{\\left(t \\right)} = 3 \\left|{\\sin{\\left(2 t \\right)}}\\right|$"
      ],
      "text/plain": [
       "Eq(f(t) + Derivative(f(t), (t, 2)), 3*Abs(sin(2*t)))"
      ]
     },
     "execution_count": 5,
     "metadata": {},
     "output_type": "execute_result"
    }
   ],
   "source": [
    "q"
   ]
  },
  {
   "cell_type": "code",
   "execution_count": 6,
   "metadata": {},
   "outputs": [
    {
     "data": {
      "text/latex": [
       "$\\displaystyle f{\\left(t \\right)} = \\left(C_{1} - 3 \\int \\sin{\\left(t \\right)} \\left|{\\sin{\\left(2 t \\right)}}\\right|\\, dt\\right) \\cos{\\left(t \\right)} + \\left(C_{2} + 3 \\int \\cos{\\left(t \\right)} \\left|{\\sin{\\left(2 t \\right)}}\\right|\\, dt\\right) \\sin{\\left(t \\right)}$"
      ],
      "text/plain": [
       "Eq(f(t), (C1 - 3*Integral(sin(t)*Abs(sin(2*t)), t))*cos(t) + (C2 + 3*Integral(cos(t)*Abs(sin(2*t)), t))*sin(t))"
      ]
     },
     "execution_count": 6,
     "metadata": {},
     "output_type": "execute_result"
    }
   ],
   "source": [
    "dsolve(q)"
   ]
  },
  {
   "cell_type": "code",
   "execution_count": 7,
   "metadata": {},
   "outputs": [],
   "source": [
    "q = Eq((4*x-1)*f(x).diff(x,2)-2*(4*x-1)*f(x).diff(x)+8*f(x),0)"
   ]
  },
  {
   "cell_type": "code",
   "execution_count": 8,
   "metadata": {},
   "outputs": [
    {
     "data": {
      "text/latex": [
       "$\\displaystyle \\left(4 x - 1\\right) \\frac{d^{2}}{d x^{2}} f{\\left(x \\right)} - \\left(8 x - 2\\right) \\frac{d}{d x} f{\\left(x \\right)} + 8 f{\\left(x \\right)} = 0$"
      ],
      "text/plain": [
       "Eq((4*x - 1)*Derivative(f(x), (x, 2)) - (8*x - 2)*Derivative(f(x), x) + 8*f(x), 0)"
      ]
     },
     "execution_count": 8,
     "metadata": {},
     "output_type": "execute_result"
    }
   ],
   "source": [
    "q"
   ]
  },
  {
   "cell_type": "code",
   "execution_count": 11,
   "metadata": {},
   "outputs": [
    {
     "data": {
      "text/plain": [
       "{'2nd_power_series_ordinary': Eq(f(x), C2*(52*x**4/3 + 8*x**3 + 4*x**2 + 1) + C1*x*(13*x**3/3 + 2*x**2 + x + 1) + O(x**6)),\n",
       " 'best': Eq(f(x), C2*(52*x**4/3 + 8*x**3 + 4*x**2 + 1) + C1*x*(13*x**3/3 + 2*x**2 + x + 1) + O(x**6)),\n",
       " 'best_hint': '2nd_power_series_ordinary',\n",
       " 'default': '2nd_power_series_ordinary',\n",
       " 'order': 2}"
      ]
     },
     "execution_count": 11,
     "metadata": {},
     "output_type": "execute_result"
    }
   ],
   "source": [
    "dsolve(q,hint=\"all\")"
   ]
  },
  {
   "cell_type": "code",
   "execution_count": null,
   "metadata": {},
   "outputs": [],
   "source": []
  }
 ],
 "metadata": {
  "kernelspec": {
   "display_name": "Python 3",
   "language": "python",
   "name": "python3"
  },
  "language_info": {
   "codemirror_mode": {
    "name": "ipython",
    "version": 3
   },
   "file_extension": ".py",
   "mimetype": "text/x-python",
   "name": "python",
   "nbconvert_exporter": "python",
   "pygments_lexer": "ipython3",
   "version": "3.7.0"
  }
 },
 "nbformat": 4,
 "nbformat_minor": 4
}
