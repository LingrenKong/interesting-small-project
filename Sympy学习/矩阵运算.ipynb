{
 "cells": [
  {
   "cell_type": "markdown",
   "metadata": {},
   "source": [
    "# Sympy矩阵运算知识\n",
    "\n",
    "sympy可以通过符号运算来解矩阵（而且可以在中间包含定义的变量），这对于简化一些运算有比较好的作用。\n",
    "\n",
    "http://docs.sympy.org/latest/tutorial/matrices.html"
   ]
  },
  {
   "cell_type": "code",
   "execution_count": 2,
   "metadata": {},
   "outputs": [],
   "source": [
    "from sympy import *"
   ]
  },
  {
   "cell_type": "code",
   "execution_count": 4,
   "metadata": {},
   "outputs": [],
   "source": [
    "t = Symbol('t')"
   ]
  },
  {
   "cell_type": "code",
   "execution_count": 5,
   "metadata": {},
   "outputs": [
    {
     "data": {
      "text/latex": [
       "$\\displaystyle \\left[\\begin{matrix}\\cos{\\left(5 t \\right)} & \\sin{\\left(5 t \\right)}\\\\- \\sin{\\left(5 t \\right)} & \\cos{\\left(5 t \\right)}\\end{matrix}\\right]$"
      ],
      "text/plain": [
       "Matrix([\n",
       "[ cos(5*t), sin(5*t)],\n",
       "[-sin(5*t), cos(5*t)]])"
      ]
     },
     "execution_count": 5,
     "metadata": {},
     "output_type": "execute_result"
    }
   ],
   "source": [
    "A = Matrix([[cos(5*t),sin(5*t)],[-sin(5*t),cos(5*t)]])\n",
    "A"
   ]
  },
  {
   "cell_type": "code",
   "execution_count": 14,
   "metadata": {},
   "outputs": [
    {
     "data": {
      "text/latex": [
       "$\\displaystyle \\left[\\begin{matrix}\\frac{1 - \\sin^{2}{\\left(5 t \\right)}}{\\cos{\\left(5 t \\right)}} & - \\sin{\\left(5 t \\right)}\\\\\\sin{\\left(5 t \\right)} & \\cos{\\left(5 t \\right)}\\end{matrix}\\right]$"
      ],
      "text/plain": [
       "Matrix([\n",
       "[(1 - sin(5*t)**2)/cos(5*t), -sin(5*t)],\n",
       "[                  sin(5*t),  cos(5*t)]])"
      ]
     },
     "execution_count": 14,
     "metadata": {},
     "output_type": "execute_result"
    }
   ],
   "source": [
    "A.inv()"
   ]
  },
  {
   "cell_type": "code",
   "execution_count": 13,
   "metadata": {},
   "outputs": [
    {
     "data": {
      "text/latex": [
       "$\\displaystyle \\left[\\begin{matrix}\\cos{\\left(5 t \\right)} & - \\sin{\\left(5 t \\right)}\\\\\\sin{\\left(5 t \\right)} & \\cos{\\left(5 t \\right)}\\end{matrix}\\right]$"
      ],
      "text/plain": [
       "Matrix([\n",
       "[cos(5*t), -sin(5*t)],\n",
       "[sin(5*t),  cos(5*t)]])"
      ]
     },
     "execution_count": 13,
     "metadata": {},
     "output_type": "execute_result"
    }
   ],
   "source": [
    "simplify(A.inv())"
   ]
  },
  {
   "cell_type": "code",
   "execution_count": 7,
   "metadata": {},
   "outputs": [
    {
     "data": {
      "text/latex": [
       "$\\displaystyle \\sin^{2}{\\left(5 t \\right)} + \\cos^{2}{\\left(5 t \\right)}$"
      ],
      "text/plain": [
       "sin(5*t)**2 + cos(5*t)**2"
      ]
     },
     "execution_count": 7,
     "metadata": {},
     "output_type": "execute_result"
    }
   ],
   "source": [
    "A.det()"
   ]
  },
  {
   "cell_type": "code",
   "execution_count": 8,
   "metadata": {},
   "outputs": [
    {
     "data": {
      "text/plain": [
       "{-sqrt((cos(5*t) - 1)*(cos(5*t) + 1)) + cos(5*t): 1,\n",
       " sqrt((cos(5*t) - 1)*(cos(5*t) + 1)) + cos(5*t): 1}"
      ]
     },
     "execution_count": 8,
     "metadata": {},
     "output_type": "execute_result"
    }
   ],
   "source": [
    "A.eigenvals()"
   ]
  },
  {
   "cell_type": "code",
   "execution_count": 23,
   "metadata": {},
   "outputs": [
    {
     "data": {
      "text/latex": [
       "$\\displaystyle \\left( - \\sqrt{\\left(\\cos{\\left(5 t \\right)} - 1\\right) \\left(\\cos{\\left(5 t \\right)} + 1\\right)} + \\cos{\\left(5 t \\right)}, \\  1, \\  \\left[ \\left[\\begin{matrix}- \\frac{\\sin{\\left(5 t \\right)}}{\\sqrt{\\left(\\cos{\\left(5 t \\right)} - 1\\right) \\left(\\cos{\\left(5 t \\right)} + 1\\right)}}\\\\1\\end{matrix}\\right]\\right]\\right)$"
      ],
      "text/plain": [
       "⎛                                                   ⎡⎡            -sin(5⋅t)   \n",
       "⎜                                                   ⎢⎢────────────────────────\n",
       "⎜    _______________________________                ⎢⎢  ______________________\n",
       "⎜- ╲╱ (cos(5⋅t) - 1)⋅(cos(5⋅t) + 1)  + cos(5⋅t), 1, ⎢⎢╲╱ (cos(5⋅t) - 1)⋅(cos(5\n",
       "⎜                                                   ⎢⎢                        \n",
       "⎝                                                   ⎣⎣                1       \n",
       "\n",
       "         ⎤⎤⎞\n",
       "─────────⎥⎥⎟\n",
       "_________⎥⎥⎟\n",
       "⋅t) + 1) ⎥⎥⎟\n",
       "         ⎥⎥⎟\n",
       "         ⎦⎦⎠"
      ]
     },
     "execution_count": 23,
     "metadata": {},
     "output_type": "execute_result"
    }
   ],
   "source": [
    "A.eigenvects()"
   ]
  },
  {
   "cell_type": "code",
   "execution_count": 24,
   "metadata": {},
   "outputs": [
    {
     "data": {
      "text/latex": [
       "$\\displaystyle \\left( \\sqrt{\\left(\\cos{\\left(5 t \\right)} - 1\\right) \\left(\\cos{\\left(5 t \\right)} + 1\\right)} + \\cos{\\left(5 t \\right)}, \\  1, \\  \\left[ \\left[\\begin{matrix}\\frac{\\sin{\\left(5 t \\right)}}{\\sqrt{\\left(\\cos{\\left(5 t \\right)} - 1\\right) \\left(\\cos{\\left(5 t \\right)} + 1\\right)}}\\\\1\\end{matrix}\\right]\\right]\\right)$"
      ],
      "text/plain": [
       "⎛                                                 ⎡⎡             sin(5⋅t)     \n",
       "⎜                                                 ⎢⎢──────────────────────────\n",
       "⎜  _______________________________                ⎢⎢  ________________________\n",
       "⎜╲╱ (cos(5⋅t) - 1)⋅(cos(5⋅t) + 1)  + cos(5⋅t), 1, ⎢⎢╲╱ (cos(5⋅t) - 1)⋅(cos(5⋅t\n",
       "⎜                                                 ⎢⎢                          \n",
       "⎝                                                 ⎣⎣                1         \n",
       "\n",
       "       ⎤⎤⎞\n",
       "───────⎥⎥⎟\n",
       "_______⎥⎥⎟\n",
       ") + 1) ⎥⎥⎟\n",
       "       ⎥⎥⎟\n",
       "       ⎦⎦⎠"
      ]
     },
     "execution_count": 24,
     "metadata": {},
     "output_type": "execute_result"
    }
   ],
   "source": [
    "vec"
   ]
  },
  {
   "cell_type": "code",
   "execution_count": 16,
   "metadata": {},
   "outputs": [],
   "source": [
    "P, D = A.diagonalize()"
   ]
  },
  {
   "cell_type": "markdown",
   "metadata": {},
   "source": [
    "## 矩阵的一个应用\n",
    "\n",
    "邻接矩阵的k方幂中非零项代表存在k长路在两点之间，因此可以通过邻接矩阵计算可达矩阵"
   ]
  },
  {
   "cell_type": "code",
   "execution_count": 41,
   "metadata": {},
   "outputs": [
    {
     "data": {
      "text/latex": [
       "$\\displaystyle \\left[\\begin{matrix}0 & 1 & 1 & 1\\\\0 & 0 & 1 & 0\\\\0 & 0 & 0 & 0\\\\0 & 1 & 1 & 0\\end{matrix}\\right]$"
      ],
      "text/plain": [
       "Matrix([\n",
       "[0, 1, 1, 1],\n",
       "[0, 0, 1, 0],\n",
       "[0, 0, 0, 0],\n",
       "[0, 1, 1, 0]])"
      ]
     },
     "execution_count": 41,
     "metadata": {},
     "output_type": "execute_result"
    }
   ],
   "source": [
    "M = Matrix([[0,1,1,1],[0,0,1,0],[0,0,0,0],[0,1,1,0]])\n",
    "M"
   ]
  },
  {
   "cell_type": "code",
   "execution_count": 4,
   "metadata": {},
   "outputs": [
    {
     "data": {
      "text/latex": [
       "$\\displaystyle \\left[\\begin{matrix}0 & 2 & 4 & 1\\\\0 & 0 & 1 & 0\\\\0 & 0 & 0 & 0\\\\0 & 1 & 2 & 0\\end{matrix}\\right]$"
      ],
      "text/plain": [
       "Matrix([\n",
       "[0, 2, 4, 1],\n",
       "[0, 0, 1, 0],\n",
       "[0, 0, 0, 0],\n",
       "[0, 1, 2, 0]])"
      ]
     },
     "execution_count": 4,
     "metadata": {},
     "output_type": "execute_result"
    }
   ],
   "source": [
    "M+M**2+M**3"
   ]
  },
  {
   "cell_type": "code",
   "execution_count": 43,
   "metadata": {},
   "outputs": [
    {
     "data": {
      "text/latex": [
       "$\\displaystyle 1$"
      ],
      "text/plain": [
       "1"
      ]
     },
     "execution_count": 43,
     "metadata": {},
     "output_type": "execute_result"
    }
   ],
   "source": [
    "det(exp(M))"
   ]
  },
  {
   "cell_type": "code",
   "execution_count": 15,
   "metadata": {},
   "outputs": [
    {
     "data": {
      "text/latex": [
       "$\\displaystyle \\left[\\begin{matrix}2 a^{4} + a & 2 a^{5} + a^{2}\\\\4 a^{6} + 3 a^{3} & 4 a^{7} + 3 a^{4}\\end{matrix}\\right]$"
      ],
      "text/plain": [
       "Matrix([\n",
       "[     2*a**4 + a,   2*a**5 + a**2],\n",
       "[4*a**6 + 3*a**3, 4*a**7 + 3*a**4]])"
      ]
     },
     "execution_count": 15,
     "metadata": {},
     "output_type": "execute_result"
    }
   ],
   "source": [
    "a = Symbol('a')\n",
    "M1 = Matrix([[1,2*a],[3*a**2,4*a**3]])\n",
    "M2 = Matrix([[a,a**2],[a**3,a**4]])\n",
    "M1*M2"
   ]
  },
  {
   "cell_type": "code",
   "execution_count": 11,
   "metadata": {},
   "outputs": [],
   "source": [
    "k = M.eigenvals().keys()"
   ]
  },
  {
   "cell_type": "code",
   "execution_count": 17,
   "metadata": {},
   "outputs": [
    {
     "data": {
      "text/latex": [
       "$\\displaystyle \\left[\\begin{matrix}- a & 0 & 1 & 0\\\\0 & - a & 0 & 1\\\\2 & 3 & - a & 0\\\\4 & -2 & 0 & - a\\end{matrix}\\right]$"
      ],
      "text/plain": [
       "Matrix([\n",
       "[-a,  0,  1,  0],\n",
       "[ 0, -a,  0,  1],\n",
       "[ 2,  3, -a,  0],\n",
       "[ 4, -2,  0, -a]])"
      ]
     },
     "execution_count": 17,
     "metadata": {},
     "output_type": "execute_result"
    }
   ],
   "source": [
    "M3 = Matrix(\n",
    "[\n",
    "    [-a,0,1,0],\n",
    "    [0,-a,0,1],\n",
    "    [2,3,-a,0],\n",
    "    [4,-2,0,-a]\n",
    "])\n",
    "M3"
   ]
  },
  {
   "cell_type": "code",
   "execution_count": 26,
   "metadata": {},
   "outputs": [
    {
     "data": {
      "text/latex": [
       "$\\displaystyle \\left[\\begin{matrix}0 & 0 & 1 & 0\\\\0 & 0 & 0 & 1\\\\2 & 3 & 0 & 0\\\\4 & -2 & 0 & 0\\end{matrix}\\right]$"
      ],
      "text/plain": [
       "Matrix([\n",
       "[0,  0, 1, 0],\n",
       "[0,  0, 0, 1],\n",
       "[2,  3, 0, 0],\n",
       "[4, -2, 0, 0]])"
      ]
     },
     "execution_count": 26,
     "metadata": {},
     "output_type": "execute_result"
    }
   ],
   "source": [
    "M = Matrix(\n",
    "[\n",
    "    [0,0,1,0],\n",
    "    [0,0,0,1],\n",
    "    [2,3,0,0],\n",
    "    [4,-2,0,0]\n",
    "])\n",
    "M"
   ]
  },
  {
   "cell_type": "code",
   "execution_count": 27,
   "metadata": {},
   "outputs": [
    {
     "data": {
      "text/latex": [
       "$\\displaystyle \\left[\\begin{matrix}2 & 3 & 0 & 0\\\\4 & -2 & 0 & 0\\\\0 & 0 & 2 & 3\\\\0 & 0 & 4 & -2\\end{matrix}\\right]$"
      ],
      "text/plain": [
       "Matrix([\n",
       "[2,  3, 0,  0],\n",
       "[4, -2, 0,  0],\n",
       "[0,  0, 2,  3],\n",
       "[0,  0, 4, -2]])"
      ]
     },
     "execution_count": 27,
     "metadata": {},
     "output_type": "execute_result"
    }
   ],
   "source": [
    "M**2"
   ]
  },
  {
   "cell_type": "code",
   "execution_count": 28,
   "metadata": {},
   "outputs": [
    {
     "data": {
      "text/latex": [
       "$\\displaystyle \\left[\\begin{matrix}0 & 0 & 2 & 3\\\\0 & 0 & 4 & -2\\\\16 & 0 & 0 & 0\\\\0 & 16 & 0 & 0\\end{matrix}\\right]$"
      ],
      "text/plain": [
       "Matrix([\n",
       "[ 0,  0, 2,  3],\n",
       "[ 0,  0, 4, -2],\n",
       "[16,  0, 0,  0],\n",
       "[ 0, 16, 0,  0]])"
      ]
     },
     "execution_count": 28,
     "metadata": {},
     "output_type": "execute_result"
    }
   ],
   "source": [
    "M**3"
   ]
  },
  {
   "cell_type": "code",
   "execution_count": 29,
   "metadata": {},
   "outputs": [
    {
     "data": {
      "text/latex": [
       "$\\displaystyle \\left[\\begin{matrix}16 & 0 & 0 & 0\\\\0 & 16 & 0 & 0\\\\0 & 0 & 16 & 0\\\\0 & 0 & 0 & 16\\end{matrix}\\right]$"
      ],
      "text/plain": [
       "Matrix([\n",
       "[16,  0,  0,  0],\n",
       "[ 0, 16,  0,  0],\n",
       "[ 0,  0, 16,  0],\n",
       "[ 0,  0,  0, 16]])"
      ]
     },
     "execution_count": 29,
     "metadata": {},
     "output_type": "execute_result"
    }
   ],
   "source": [
    "M**4"
   ]
  },
  {
   "cell_type": "code",
   "execution_count": 31,
   "metadata": {},
   "outputs": [
    {
     "data": {
      "text/latex": [
       "$\\displaystyle \\left[\\begin{matrix}\\frac{3 \\left(- \\frac{2 i \\left(\\frac{3}{8} - \\frac{3 i}{8}\\right)}{9} - \\frac{2 i \\left(\\frac{3}{8} + \\frac{3 i}{8}\\right)}{9} - \\frac{8 i \\left(- \\frac{3}{16} + \\frac{9 i}{16}\\right)}{9}\\right) e^{2 a}}{4} + \\frac{e^{2 i a}}{8} + \\frac{e^{- 2 i a}}{8} - \\frac{3 \\left(\\frac{8 i \\left(- \\frac{9}{32} + \\frac{9 i}{32}\\right)}{27} + \\frac{8 i \\left(- \\frac{9}{32} - \\frac{9 i}{32}\\right)}{27} + \\frac{32 i \\left(\\frac{9}{64} + \\frac{27 i}{64}\\right)}{27}\\right) e^{- 2 a}}{4} & \\frac{3 \\left(- \\frac{8 i \\left(\\frac{9}{32} + \\frac{9 i}{32}\\right)}{9} + \\frac{i \\left(\\frac{3}{8} + \\frac{3 i}{8}\\right)}{3} + \\frac{i \\left(\\frac{3}{8} - \\frac{3 i}{8}\\right)}{3}\\right) e^{2 a}}{4} - \\frac{3 e^{2 i a}}{16} - \\frac{3 e^{- 2 i a}}{16} - \\frac{3 \\left(\\frac{32 i \\left(- \\frac{27}{128} + \\frac{27 i}{128}\\right)}{27} - \\frac{4 i \\left(- \\frac{9}{32} - \\frac{9 i}{32}\\right)}{9} - \\frac{4 i \\left(- \\frac{9}{32} + \\frac{9 i}{32}\\right)}{9}\\right) e^{- 2 a}}{4} & \\frac{3 \\left(\\frac{1}{3} - \\frac{2 i \\left(- \\frac{i \\left(\\frac{3}{8} - \\frac{3 i}{8}\\right)}{2} - \\frac{i \\left(\\frac{3}{8} + \\frac{3 i}{8}\\right)}{2}\\right)}{9}\\right) e^{2 a}}{4} - \\frac{i e^{2 i a}}{16} + \\frac{i e^{- 2 i a}}{16} - \\frac{3 \\left(\\frac{1}{3} + \\frac{8 i \\left(- \\frac{i \\left(- \\frac{9}{32} - \\frac{9 i}{32}\\right)}{2} - \\frac{i \\left(- \\frac{9}{32} + \\frac{9 i}{32}\\right)}{2}\\right)}{27}\\right) e^{- 2 a}}{4} & \\frac{i \\left(- \\frac{i \\left(\\frac{3}{8} - \\frac{3 i}{8}\\right)}{2} - \\frac{i \\left(\\frac{3}{8} + \\frac{3 i}{8}\\right)}{2}\\right) e^{2 a}}{4} + \\frac{3 i e^{2 i a}}{32} - \\frac{3 i e^{- 2 i a}}{32} + \\frac{i \\left(- \\frac{i \\left(- \\frac{9}{32} - \\frac{9 i}{32}\\right)}{2} - \\frac{i \\left(- \\frac{9}{32} + \\frac{9 i}{32}\\right)}{2}\\right) e^{- 2 a}}{3}\\\\\\frac{\\left(- \\frac{2 i \\left(\\frac{3}{8} - \\frac{3 i}{8}\\right)}{9} - \\frac{2 i \\left(\\frac{3}{8} + \\frac{3 i}{8}\\right)}{9} - \\frac{8 i \\left(- \\frac{3}{16} + \\frac{9 i}{16}\\right)}{9}\\right) e^{2 a}}{2} - \\frac{e^{2 i a}}{4} - \\frac{e^{- 2 i a}}{4} - \\frac{\\left(\\frac{8 i \\left(- \\frac{9}{32} + \\frac{9 i}{32}\\right)}{27} + \\frac{8 i \\left(- \\frac{9}{32} - \\frac{9 i}{32}\\right)}{27} + \\frac{32 i \\left(\\frac{9}{64} + \\frac{27 i}{64}\\right)}{27}\\right) e^{- 2 a}}{2} & \\frac{\\left(- \\frac{8 i \\left(\\frac{9}{32} + \\frac{9 i}{32}\\right)}{9} + \\frac{i \\left(\\frac{3}{8} + \\frac{3 i}{8}\\right)}{3} + \\frac{i \\left(\\frac{3}{8} - \\frac{3 i}{8}\\right)}{3}\\right) e^{2 a}}{2} + \\frac{3 e^{2 i a}}{8} + \\frac{3 e^{- 2 i a}}{8} - \\frac{\\left(\\frac{32 i \\left(- \\frac{27}{128} + \\frac{27 i}{128}\\right)}{27} - \\frac{4 i \\left(- \\frac{9}{32} - \\frac{9 i}{32}\\right)}{9} - \\frac{4 i \\left(- \\frac{9}{32} + \\frac{9 i}{32}\\right)}{9}\\right) e^{- 2 a}}{2} & \\frac{\\left(\\frac{1}{3} - \\frac{2 i \\left(- \\frac{i \\left(\\frac{3}{8} - \\frac{3 i}{8}\\right)}{2} - \\frac{i \\left(\\frac{3}{8} + \\frac{3 i}{8}\\right)}{2}\\right)}{9}\\right) e^{2 a}}{2} + \\frac{i e^{2 i a}}{8} - \\frac{i e^{- 2 i a}}{8} - \\frac{\\left(\\frac{1}{3} + \\frac{8 i \\left(- \\frac{i \\left(- \\frac{9}{32} - \\frac{9 i}{32}\\right)}{2} - \\frac{i \\left(- \\frac{9}{32} + \\frac{9 i}{32}\\right)}{2}\\right)}{27}\\right) e^{- 2 a}}{2} & \\frac{i \\left(- \\frac{i \\left(\\frac{3}{8} - \\frac{3 i}{8}\\right)}{2} - \\frac{i \\left(\\frac{3}{8} + \\frac{3 i}{8}\\right)}{2}\\right) e^{2 a}}{6} - \\frac{3 i e^{2 i a}}{16} + \\frac{3 i e^{- 2 i a}}{16} + \\frac{2 i \\left(- \\frac{i \\left(- \\frac{9}{32} - \\frac{9 i}{32}\\right)}{2} - \\frac{i \\left(- \\frac{9}{32} + \\frac{9 i}{32}\\right)}{2}\\right) e^{- 2 a}}{9}\\\\\\frac{3 \\left(- \\frac{2 i \\left(\\frac{3}{8} - \\frac{3 i}{8}\\right)}{9} - \\frac{2 i \\left(\\frac{3}{8} + \\frac{3 i}{8}\\right)}{9} - \\frac{8 i \\left(- \\frac{3}{16} + \\frac{9 i}{16}\\right)}{9}\\right) e^{2 a}}{2} + \\frac{i e^{2 i a}}{4} - \\frac{i e^{- 2 i a}}{4} + \\frac{3 \\left(\\frac{8 i \\left(- \\frac{9}{32} + \\frac{9 i}{32}\\right)}{27} + \\frac{8 i \\left(- \\frac{9}{32} - \\frac{9 i}{32}\\right)}{27} + \\frac{32 i \\left(\\frac{9}{64} + \\frac{27 i}{64}\\right)}{27}\\right) e^{- 2 a}}{2} & \\frac{3 \\left(- \\frac{8 i \\left(\\frac{9}{32} + \\frac{9 i}{32}\\right)}{9} + \\frac{i \\left(\\frac{3}{8} + \\frac{3 i}{8}\\right)}{3} + \\frac{i \\left(\\frac{3}{8} - \\frac{3 i}{8}\\right)}{3}\\right) e^{2 a}}{2} - \\frac{3 i e^{2 i a}}{8} + \\frac{3 i e^{- 2 i a}}{8} + \\frac{3 \\left(\\frac{32 i \\left(- \\frac{27}{128} + \\frac{27 i}{128}\\right)}{27} - \\frac{4 i \\left(- \\frac{9}{32} - \\frac{9 i}{32}\\right)}{9} - \\frac{4 i \\left(- \\frac{9}{32} + \\frac{9 i}{32}\\right)}{9}\\right) e^{- 2 a}}{2} & \\frac{3 \\left(\\frac{1}{3} - \\frac{2 i \\left(- \\frac{i \\left(\\frac{3}{8} - \\frac{3 i}{8}\\right)}{2} - \\frac{i \\left(\\frac{3}{8} + \\frac{3 i}{8}\\right)}{2}\\right)}{9}\\right) e^{2 a}}{2} + \\frac{e^{2 i a}}{8} + \\frac{e^{- 2 i a}}{8} + \\frac{3 \\left(\\frac{1}{3} + \\frac{8 i \\left(- \\frac{i \\left(- \\frac{9}{32} - \\frac{9 i}{32}\\right)}{2} - \\frac{i \\left(- \\frac{9}{32} + \\frac{9 i}{32}\\right)}{2}\\right)}{27}\\right) e^{- 2 a}}{2} & \\frac{i \\left(- \\frac{i \\left(\\frac{3}{8} - \\frac{3 i}{8}\\right)}{2} - \\frac{i \\left(\\frac{3}{8} + \\frac{3 i}{8}\\right)}{2}\\right) e^{2 a}}{2} - \\frac{3 e^{2 i a}}{16} - \\frac{3 e^{- 2 i a}}{16} - \\frac{2 i \\left(- \\frac{i \\left(- \\frac{9}{32} - \\frac{9 i}{32}\\right)}{2} - \\frac{i \\left(- \\frac{9}{32} + \\frac{9 i}{32}\\right)}{2}\\right) e^{- 2 a}}{3}\\\\\\left(- \\frac{2 i \\left(\\frac{3}{8} - \\frac{3 i}{8}\\right)}{9} - \\frac{2 i \\left(\\frac{3}{8} + \\frac{3 i}{8}\\right)}{9} - \\frac{8 i \\left(- \\frac{3}{16} + \\frac{9 i}{16}\\right)}{9}\\right) e^{2 a} - \\frac{i e^{2 i a}}{2} + \\frac{i e^{- 2 i a}}{2} + \\left(\\frac{8 i \\left(- \\frac{9}{32} + \\frac{9 i}{32}\\right)}{27} + \\frac{8 i \\left(- \\frac{9}{32} - \\frac{9 i}{32}\\right)}{27} + \\frac{32 i \\left(\\frac{9}{64} + \\frac{27 i}{64}\\right)}{27}\\right) e^{- 2 a} & \\left(- \\frac{8 i \\left(\\frac{9}{32} + \\frac{9 i}{32}\\right)}{9} + \\frac{i \\left(\\frac{3}{8} + \\frac{3 i}{8}\\right)}{3} + \\frac{i \\left(\\frac{3}{8} - \\frac{3 i}{8}\\right)}{3}\\right) e^{2 a} + \\frac{3 i e^{2 i a}}{4} - \\frac{3 i e^{- 2 i a}}{4} + \\left(\\frac{32 i \\left(- \\frac{27}{128} + \\frac{27 i}{128}\\right)}{27} - \\frac{4 i \\left(- \\frac{9}{32} - \\frac{9 i}{32}\\right)}{9} - \\frac{4 i \\left(- \\frac{9}{32} + \\frac{9 i}{32}\\right)}{9}\\right) e^{- 2 a} & \\left(\\frac{1}{3} - \\frac{2 i \\left(- \\frac{i \\left(\\frac{3}{8} - \\frac{3 i}{8}\\right)}{2} - \\frac{i \\left(\\frac{3}{8} + \\frac{3 i}{8}\\right)}{2}\\right)}{9}\\right) e^{2 a} - \\frac{e^{2 i a}}{4} - \\frac{e^{- 2 i a}}{4} + \\left(\\frac{1}{3} + \\frac{8 i \\left(- \\frac{i \\left(- \\frac{9}{32} - \\frac{9 i}{32}\\right)}{2} - \\frac{i \\left(- \\frac{9}{32} + \\frac{9 i}{32}\\right)}{2}\\right)}{27}\\right) e^{- 2 a} & \\frac{i \\left(- \\frac{i \\left(\\frac{3}{8} - \\frac{3 i}{8}\\right)}{2} - \\frac{i \\left(\\frac{3}{8} + \\frac{3 i}{8}\\right)}{2}\\right) e^{2 a}}{3} + \\frac{3 e^{2 i a}}{8} + \\frac{3 e^{- 2 i a}}{8} - \\frac{4 i \\left(- \\frac{i \\left(- \\frac{9}{32} - \\frac{9 i}{32}\\right)}{2} - \\frac{i \\left(- \\frac{9}{32} + \\frac{9 i}{32}\\right)}{2}\\right) e^{- 2 a}}{9}\\end{matrix}\\right]$"
      ],
      "text/plain": [
       "Matrix([\n",
       "[    3*(-2*I*(3/8 - 3*I/8)/9 - 2*I*(3/8 + 3*I/8)/9 - 8*I*(-3/16 + 9*I/16)/9)*exp(2*a)/4 + exp(2*I*a)/8 + exp(-2*I*a)/8 - 3*(8*I*(-9/32 + 9*I/32)/27 + 8*I*(-9/32 - 9*I/32)/27 + 32*I*(9/64 + 27*I/64)/27)*exp(-2*a)/4,   3*(-8*I*(9/32 + 9*I/32)/9 + I*(3/8 + 3*I/8)/3 + I*(3/8 - 3*I/8)/3)*exp(2*a)/4 - 3*exp(2*I*a)/16 - 3*exp(-2*I*a)/16 - 3*(32*I*(-27/128 + 27*I/128)/27 - 4*I*(-9/32 - 9*I/32)/9 - 4*I*(-9/32 + 9*I/32)/9)*exp(-2*a)/4, 3*(1/3 - 2*I*(-I*(3/8 - 3*I/8)/2 - I*(3/8 + 3*I/8)/2)/9)*exp(2*a)/4 - I*exp(2*I*a)/16 + I*exp(-2*I*a)/16 - 3*(1/3 + 8*I*(-I*(-9/32 - 9*I/32)/2 - I*(-9/32 + 9*I/32)/2)/27)*exp(-2*a)/4,   I*(-I*(3/8 - 3*I/8)/2 - I*(3/8 + 3*I/8)/2)*exp(2*a)/4 + 3*I*exp(2*I*a)/32 - 3*I*exp(-2*I*a)/32 + I*(-I*(-9/32 - 9*I/32)/2 - I*(-9/32 + 9*I/32)/2)*exp(-2*a)/3],\n",
       "[        (-2*I*(3/8 - 3*I/8)/9 - 2*I*(3/8 + 3*I/8)/9 - 8*I*(-3/16 + 9*I/16)/9)*exp(2*a)/2 - exp(2*I*a)/4 - exp(-2*I*a)/4 - (8*I*(-9/32 + 9*I/32)/27 + 8*I*(-9/32 - 9*I/32)/27 + 32*I*(9/64 + 27*I/64)/27)*exp(-2*a)/2,         (-8*I*(9/32 + 9*I/32)/9 + I*(3/8 + 3*I/8)/3 + I*(3/8 - 3*I/8)/3)*exp(2*a)/2 + 3*exp(2*I*a)/8 + 3*exp(-2*I*a)/8 - (32*I*(-27/128 + 27*I/128)/27 - 4*I*(-9/32 - 9*I/32)/9 - 4*I*(-9/32 + 9*I/32)/9)*exp(-2*a)/2,       (1/3 - 2*I*(-I*(3/8 - 3*I/8)/2 - I*(3/8 + 3*I/8)/2)/9)*exp(2*a)/2 + I*exp(2*I*a)/8 - I*exp(-2*I*a)/8 - (1/3 + 8*I*(-I*(-9/32 - 9*I/32)/2 - I*(-9/32 + 9*I/32)/2)/27)*exp(-2*a)/2, I*(-I*(3/8 - 3*I/8)/2 - I*(3/8 + 3*I/8)/2)*exp(2*a)/6 - 3*I*exp(2*I*a)/16 + 3*I*exp(-2*I*a)/16 + 2*I*(-I*(-9/32 - 9*I/32)/2 - I*(-9/32 + 9*I/32)/2)*exp(-2*a)/9],\n",
       "[3*(-2*I*(3/8 - 3*I/8)/9 - 2*I*(3/8 + 3*I/8)/9 - 8*I*(-3/16 + 9*I/16)/9)*exp(2*a)/2 + I*exp(2*I*a)/4 - I*exp(-2*I*a)/4 + 3*(8*I*(-9/32 + 9*I/32)/27 + 8*I*(-9/32 - 9*I/32)/27 + 32*I*(9/64 + 27*I/64)/27)*exp(-2*a)/2, 3*(-8*I*(9/32 + 9*I/32)/9 + I*(3/8 + 3*I/8)/3 + I*(3/8 - 3*I/8)/3)*exp(2*a)/2 - 3*I*exp(2*I*a)/8 + 3*I*exp(-2*I*a)/8 + 3*(32*I*(-27/128 + 27*I/128)/27 - 4*I*(-9/32 - 9*I/32)/9 - 4*I*(-9/32 + 9*I/32)/9)*exp(-2*a)/2,       3*(1/3 - 2*I*(-I*(3/8 - 3*I/8)/2 - I*(3/8 + 3*I/8)/2)/9)*exp(2*a)/2 + exp(2*I*a)/8 + exp(-2*I*a)/8 + 3*(1/3 + 8*I*(-I*(-9/32 - 9*I/32)/2 - I*(-9/32 + 9*I/32)/2)/27)*exp(-2*a)/2,     I*(-I*(3/8 - 3*I/8)/2 - I*(3/8 + 3*I/8)/2)*exp(2*a)/2 - 3*exp(2*I*a)/16 - 3*exp(-2*I*a)/16 - 2*I*(-I*(-9/32 - 9*I/32)/2 - I*(-9/32 + 9*I/32)/2)*exp(-2*a)/3],\n",
       "[        (-2*I*(3/8 - 3*I/8)/9 - 2*I*(3/8 + 3*I/8)/9 - 8*I*(-3/16 + 9*I/16)/9)*exp(2*a) - I*exp(2*I*a)/2 + I*exp(-2*I*a)/2 + (8*I*(-9/32 + 9*I/32)/27 + 8*I*(-9/32 - 9*I/32)/27 + 32*I*(9/64 + 27*I/64)/27)*exp(-2*a),         (-8*I*(9/32 + 9*I/32)/9 + I*(3/8 + 3*I/8)/3 + I*(3/8 - 3*I/8)/3)*exp(2*a) + 3*I*exp(2*I*a)/4 - 3*I*exp(-2*I*a)/4 + (32*I*(-27/128 + 27*I/128)/27 - 4*I*(-9/32 - 9*I/32)/9 - 4*I*(-9/32 + 9*I/32)/9)*exp(-2*a),               (1/3 - 2*I*(-I*(3/8 - 3*I/8)/2 - I*(3/8 + 3*I/8)/2)/9)*exp(2*a) - exp(2*I*a)/4 - exp(-2*I*a)/4 + (1/3 + 8*I*(-I*(-9/32 - 9*I/32)/2 - I*(-9/32 + 9*I/32)/2)/27)*exp(-2*a),       I*(-I*(3/8 - 3*I/8)/2 - I*(3/8 + 3*I/8)/2)*exp(2*a)/3 + 3*exp(2*I*a)/8 + 3*exp(-2*I*a)/8 - 4*I*(-I*(-9/32 - 9*I/32)/2 - I*(-9/32 + 9*I/32)/2)*exp(-2*a)/9]])"
      ]
     },
     "execution_count": 31,
     "metadata": {},
     "output_type": "execute_result"
    }
   ],
   "source": [
    "exp(M*a)"
   ]
  },
  {
   "cell_type": "code",
   "execution_count": 32,
   "metadata": {},
   "outputs": [
    {
     "data": {
      "text/latex": [
       "$\\displaystyle \\left[\\begin{matrix}\\frac{3 e^{2 t}}{4} & - \\frac{3 e^{- 2 t}}{4} & - \\frac{i e^{- 2 i t}}{4} & \\frac{i e^{2 i t}}{4}\\\\\\frac{e^{2 t}}{2} & - \\frac{e^{- 2 t}}{2} & \\frac{i e^{- 2 i t}}{2} & - \\frac{i e^{2 i t}}{2}\\\\\\frac{3 e^{2 t}}{2} & \\frac{3 e^{- 2 t}}{2} & - 0.5 e^{- 2 i t} & - 0.5 e^{2 i t}\\\\e^{2 t} & e^{- 2 t} & e^{- 2 i t} & e^{2 i t}\\end{matrix}\\right]$"
      ],
      "text/plain": [
       "Matrix([\n",
       "[3*exp(2*t)/4, -3*exp(-2*t)/4, -I*exp(-2*I*t)/4,  I*exp(2*I*t)/4],\n",
       "[  exp(2*t)/2,   -exp(-2*t)/2,  I*exp(-2*I*t)/2, -I*exp(2*I*t)/2],\n",
       "[3*exp(2*t)/2,  3*exp(-2*t)/2, -0.5*exp(-2*I*t), -0.5*exp(2*I*t)],\n",
       "[    exp(2*t),      exp(-2*t),      exp(-2*I*t),      exp(2*I*t)]])"
      ]
     },
     "execution_count": 32,
     "metadata": {},
     "output_type": "execute_result"
    }
   ],
   "source": [
    "t = Symbol('t')\n",
    "M = Matrix(\n",
    "[\n",
    "    [exp(2*t)*3/4,-exp(-2*t)*3/4,-I/4*exp(-2*I*t),I*exp(2*I*t)/4],\n",
    "    [exp(2*t)/2,-exp(-2*t)/2,I*exp(-2*I*t)/2,-I*exp(2*I*t)/2],\n",
    "    [exp(2*t)*3/2,exp(-2*t)*3/2,-1/2*exp(-2*I*t),-1/2*exp(2*I*t)],\n",
    "    [exp(2*t),exp(-2*t),exp(-2*I*t),exp(2*I*t)]\n",
    "])\n",
    "M"
   ]
  },
  {
   "cell_type": "code",
   "execution_count": 38,
   "metadata": {},
   "outputs": [
    {
     "data": {
      "text/latex": [
       "$\\displaystyle \\left[\\begin{matrix}- \\frac{i \\left(216 + 216 i\\right) \\left(- 1152 i \\left(-6 - 6 i\\right) - 1152 i \\left(-6 + 6 i\\right) + 192 i \\left(36 - 108 i\\right)\\right)}{17915904} & \\frac{\\left(54 - 54 i\\right) \\left(216 + 216 i\\right)}{93312} & - \\frac{i \\left(-6912 - \\left(-36 - 12 i\\right) \\left(12 i \\left(-6 + 6 i\\right) + 12 i \\left(-6 - 6 i\\right)\\right)\\right) \\left(216 + 216 i\\right)}{17915904} & \\frac{i \\left(-18 + 18 i\\right) \\left(216 + 216 i\\right) \\left(12 i \\left(-6 + 6 i\\right) + 12 i \\left(-6 - 6 i\\right)\\right)}{17915904}\\\\- \\frac{i \\left(72 + 72 i\\right) \\left(768 i \\left(-6 + 6 i\\right) + 768 i \\left(-6 - 6 i\\right) + 192 i \\left(12 + 36 i\\right)\\right)}{1990656} & \\frac{\\left(-18 + 18 i\\right) \\left(72 + 72 i\\right)}{10368} & - \\frac{i \\left(72 + 72 i\\right) \\left(4608 - \\left(-36 - 12 i\\right) \\left(- 8 i \\left(-6 - 6 i\\right) - 8 i \\left(-6 + 6 i\\right)\\right)\\right)}{1990656} & \\frac{i \\left(-18 + 18 i\\right) \\left(72 + 72 i\\right) \\left(- 8 i \\left(-6 - 6 i\\right) - 8 i \\left(-6 + 6 i\\right)\\right)}{1990656}\\\\- \\frac{i \\left(-6 - 6 i\\right) \\left(576 - 576 i\\right)}{13824} & 0 & - \\frac{i \\left(-6 - 6 i\\right) \\left(- \\left(-36 - 12 i\\right) \\left(-6 - 6 i\\right) + 576 i\\right)}{13824} & \\frac{i \\left(-18 + 18 i\\right) \\left(-6 - 6 i\\right)^{2}}{13824}\\\\- \\frac{i}{2} & 0 & - \\frac{i \\left(-36 - 12 i\\right)}{192} & - \\frac{i \\left(-18 + 18 i\\right)}{192}\\end{matrix}\\right]$"
      ],
      "text/plain": [
       "Matrix([\n",
       "[-I*(216 + 216*I)*(-1152*I*(-6 - 6*I) - 1152*I*(-6 + 6*I) + 192*I*(36 - 108*I))/17915904, (54 - 54*I)*(216 + 216*I)/93312, -I*(-6912 - (-36 - 12*I)*(12*I*(-6 + 6*I) + 12*I*(-6 - 6*I)))*(216 + 216*I)/17915904, I*(-18 + 18*I)*(216 + 216*I)*(12*I*(-6 + 6*I) + 12*I*(-6 - 6*I))/17915904],\n",
       "[       -I*(72 + 72*I)*(768*I*(-6 + 6*I) + 768*I*(-6 - 6*I) + 192*I*(12 + 36*I))/1990656,  (-18 + 18*I)*(72 + 72*I)/10368,      -I*(72 + 72*I)*(4608 - (-36 - 12*I)*(-8*I*(-6 - 6*I) - 8*I*(-6 + 6*I)))/1990656,     I*(-18 + 18*I)*(72 + 72*I)*(-8*I*(-6 - 6*I) - 8*I*(-6 + 6*I))/1990656],\n",
       "[                                                      -I*(-6 - 6*I)*(576 - 576*I)/13824,                               0,                               -I*(-6 - 6*I)*(-(-36 - 12*I)*(-6 - 6*I) + 576*I)/13824,                                        I*(-18 + 18*I)*(-6 - 6*I)**2/13824],\n",
       "[                                                                                   -I/2,                               0,                                                                  -I*(-36 - 12*I)/192,                                                       -I*(-18 + 18*I)/192]])"
      ]
     },
     "execution_count": 38,
     "metadata": {},
     "output_type": "execute_result"
    }
   ],
   "source": [
    "M0 = Matrix(\n",
    "[\n",
    "    [3,3,-I,I],\n",
    "    [2,-2,2*I,-2*I],\n",
    "    [6,6,-2,-2],\n",
    "    [4,4,4,4]\n",
    "])\n",
    "M0.inv()"
   ]
  },
  {
   "cell_type": "code",
   "execution_count": 40,
   "metadata": {},
   "outputs": [
    {
     "data": {
      "text/latex": [
       "$\\displaystyle \\left[\\begin{matrix}\\frac{\\cos{\\left(2 t \\right)}}{4} + \\frac{3 \\cosh{\\left(2 t \\right)}}{4} & \\frac{3 \\cosh{\\left(2 t \\right)}}{8} & \\frac{\\sin{\\left(2 t \\right)}}{32} - \\frac{3 \\cos{\\left(2 t \\right)}}{32} + \\frac{3 \\sinh{\\left(2 t \\right)}}{32} - \\frac{9 \\cosh{\\left(2 t \\right)}}{32} & - \\frac{3 e^{2 t}}{64} - \\frac{3 e^{2 i t}}{128} + \\frac{3 i e^{2 i t}}{128} + \\frac{3 i \\left(1 + i\\right)^{2} e^{- 2 i t}}{256} - \\frac{3 \\left(1 + i\\right)^{2} e^{- 2 i t}}{256} - \\frac{3 e^{- 2 t}}{32}\\\\- \\frac{\\cos{\\left(2 t \\right)}}{2} + \\frac{\\cosh{\\left(2 t \\right)}}{2} & \\frac{\\cosh{\\left(2 t \\right)}}{4} & - \\frac{\\sin{\\left(2 t \\right)}}{16} + \\frac{3 \\cos{\\left(2 t \\right)}}{16} + \\frac{\\sinh{\\left(2 t \\right)}}{16} - \\frac{3 \\cosh{\\left(2 t \\right)}}{16} & \\frac{\\left(1 - i\\right) \\left(2 \\left(- \\left(1 + i\\right) e^{2 t} + 3 e^{2 i t}\\right) e^{2 t \\left(1 + i\\right)} + 3 \\left(1 + i\\right)^{2} e^{2 t} - 4 \\left(1 + i\\right) e^{2 i t}\\right) e^{- 2 t \\left(1 + i\\right)}}{128}\\\\0.75 e^{2 t} + 0.25 i e^{2 i t} - 0.25 i e^{- 2 i t} - 0.75 e^{- 2 t} & \\frac{3 \\sinh{\\left(2 t \\right)}}{4} & - 0.1875 e^{2 t} + 0.03125 e^{2 i t} - 0.09375 i e^{2 i t} + 0.03125 e^{- 2 i t} + 0.09375 i e^{- 2 i t} + 0.375 e^{- 2 t} & - \\frac{3 e^{2 t}}{32} - 0.046875 e^{2 i t} - 0.046875 i e^{2 i t} + 0.0234375 i \\left(1 + i\\right)^{2} e^{- 2 i t} + 0.0234375 \\left(1 + i\\right)^{2} e^{- 2 i t} + \\frac{3 e^{- 2 t}}{16}\\\\\\frac{e^{2 t}}{2} - \\frac{i e^{2 i t}}{2} + \\frac{i e^{- 2 i t}}{2} - \\frac{e^{- 2 t}}{2} & \\frac{\\sinh{\\left(2 t \\right)}}{2} & - \\frac{3 \\sin{\\left(2 t \\right)}}{8} - \\frac{\\cos{\\left(2 t \\right)}}{8} - \\frac{3 \\sinh{\\left(2 t \\right)}}{8} + \\frac{\\cosh{\\left(2 t \\right)}}{8} & - \\frac{e^{2 t}}{16} + \\frac{3 e^{2 i t}}{32} + \\frac{3 i e^{2 i t}}{32} - \\frac{3 i \\left(1 + i\\right)^{2} e^{- 2 i t}}{64} - \\frac{3 \\left(1 + i\\right)^{2} e^{- 2 i t}}{64} + \\frac{e^{- 2 t}}{8}\\end{matrix}\\right]$"
      ],
      "text/plain": [
       "Matrix([\n",
       "[                                             cos(2*t)/4 + 3*cosh(2*t)/4, 3*cosh(2*t)/8,                                                                sin(2*t)/32 - 3*cos(2*t)/32 + 3*sinh(2*t)/32 - 9*cosh(2*t)/32,               -3*exp(2*t)/64 - 3*exp(2*I*t)/128 + 3*I*exp(2*I*t)/128 + 3*I*(1 + I)**2*exp(-2*I*t)/256 - 3*(1 + I)**2*exp(-2*I*t)/256 - 3*exp(-2*t)/32],\n",
       "[                                              -cos(2*t)/2 + cosh(2*t)/2,   cosh(2*t)/4,                                                                 -sin(2*t)/16 + 3*cos(2*t)/16 + sinh(2*t)/16 - 3*cosh(2*t)/16,                  (1 - I)*(2*(-(1 + I)*exp(2*t) + 3*exp(2*I*t))*exp(2*t*(1 + I)) + 3*(1 + I)**2*exp(2*t) - 4*(1 + I)*exp(2*I*t))*exp(-2*t*(1 + I))/128],\n",
       "[0.75*exp(2*t) + 0.25*I*exp(2*I*t) - 0.25*I*exp(-2*I*t) - 0.75*exp(-2*t), 3*sinh(2*t)/4, -0.1875*exp(2*t) + 0.03125*exp(2*I*t) - 0.09375*I*exp(2*I*t) + 0.03125*exp(-2*I*t) + 0.09375*I*exp(-2*I*t) + 0.375*exp(-2*t), -3*exp(2*t)/32 - 0.046875*exp(2*I*t) - 0.046875*I*exp(2*I*t) + 0.0234375*I*(1 + I)**2*exp(-2*I*t) + 0.0234375*(1 + I)**2*exp(-2*I*t) + 3*exp(-2*t)/16],\n",
       "[            exp(2*t)/2 - I*exp(2*I*t)/2 + I*exp(-2*I*t)/2 - exp(-2*t)/2,   sinh(2*t)/2,                                                                     -3*sin(2*t)/8 - cos(2*t)/8 - 3*sinh(2*t)/8 + cosh(2*t)/8,                        -exp(2*t)/16 + 3*exp(2*I*t)/32 + 3*I*exp(2*I*t)/32 - 3*I*(1 + I)**2*exp(-2*I*t)/64 - 3*(1 + I)**2*exp(-2*I*t)/64 + exp(-2*t)/8]])"
      ]
     },
     "execution_count": 40,
     "metadata": {},
     "output_type": "execute_result"
    }
   ],
   "source": [
    "simplify(M*M0.inv())"
   ]
  },
  {
   "cell_type": "code",
   "execution_count": null,
   "metadata": {},
   "outputs": [],
   "source": []
  }
 ],
 "metadata": {
  "kernelspec": {
   "display_name": "Python 3",
   "language": "python",
   "name": "python3"
  },
  "language_info": {
   "codemirror_mode": {
    "name": "ipython",
    "version": 3
   },
   "file_extension": ".py",
   "mimetype": "text/x-python",
   "name": "python",
   "nbconvert_exporter": "python",
   "pygments_lexer": "ipython3",
   "version": "3.7.0"
  }
 },
 "nbformat": 4,
 "nbformat_minor": 4
}
