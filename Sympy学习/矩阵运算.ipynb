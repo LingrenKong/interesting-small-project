{
 "cells": [
  {
   "cell_type": "markdown",
   "metadata": {},
   "source": [
    "# Sympy矩阵运算知识\n",
    "\n",
    "sympy可以通过符号运算来解矩阵（而且可以在中间包含定义的变量），这对于简化一些运算有比较好的作用。\n",
    "\n",
    "http://docs.sympy.org/latest/tutorial/matrices.html"
   ]
  },
  {
   "cell_type": "code",
   "execution_count": 2,
   "metadata": {},
   "outputs": [],
   "source": [
    "from sympy import *"
   ]
  },
  {
   "cell_type": "code",
   "execution_count": 4,
   "metadata": {},
   "outputs": [],
   "source": [
    "t = Symbol('t')"
   ]
  },
  {
   "cell_type": "code",
   "execution_count": 5,
   "metadata": {},
   "outputs": [
    {
     "data": {
      "text/latex": [
       "$\\displaystyle \\left[\\begin{matrix}\\cos{\\left(5 t \\right)} & \\sin{\\left(5 t \\right)}\\\\- \\sin{\\left(5 t \\right)} & \\cos{\\left(5 t \\right)}\\end{matrix}\\right]$"
      ],
      "text/plain": [
       "Matrix([\n",
       "[ cos(5*t), sin(5*t)],\n",
       "[-sin(5*t), cos(5*t)]])"
      ]
     },
     "execution_count": 5,
     "metadata": {},
     "output_type": "execute_result"
    }
   ],
   "source": [
    "A = Matrix([[cos(5*t),sin(5*t)],[-sin(5*t),cos(5*t)]])\n",
    "A"
   ]
  },
  {
   "cell_type": "code",
   "execution_count": 14,
   "metadata": {},
   "outputs": [
    {
     "data": {
      "text/latex": [
       "$\\displaystyle \\left[\\begin{matrix}\\frac{1 - \\sin^{2}{\\left(5 t \\right)}}{\\cos{\\left(5 t \\right)}} & - \\sin{\\left(5 t \\right)}\\\\\\sin{\\left(5 t \\right)} & \\cos{\\left(5 t \\right)}\\end{matrix}\\right]$"
      ],
      "text/plain": [
       "Matrix([\n",
       "[(1 - sin(5*t)**2)/cos(5*t), -sin(5*t)],\n",
       "[                  sin(5*t),  cos(5*t)]])"
      ]
     },
     "execution_count": 14,
     "metadata": {},
     "output_type": "execute_result"
    }
   ],
   "source": [
    "A.inv()"
   ]
  },
  {
   "cell_type": "code",
   "execution_count": 13,
   "metadata": {},
   "outputs": [
    {
     "data": {
      "text/latex": [
       "$\\displaystyle \\left[\\begin{matrix}\\cos{\\left(5 t \\right)} & - \\sin{\\left(5 t \\right)}\\\\\\sin{\\left(5 t \\right)} & \\cos{\\left(5 t \\right)}\\end{matrix}\\right]$"
      ],
      "text/plain": [
       "Matrix([\n",
       "[cos(5*t), -sin(5*t)],\n",
       "[sin(5*t),  cos(5*t)]])"
      ]
     },
     "execution_count": 13,
     "metadata": {},
     "output_type": "execute_result"
    }
   ],
   "source": [
    "simplify(A.inv())"
   ]
  },
  {
   "cell_type": "code",
   "execution_count": 7,
   "metadata": {},
   "outputs": [
    {
     "data": {
      "text/latex": [
       "$\\displaystyle \\sin^{2}{\\left(5 t \\right)} + \\cos^{2}{\\left(5 t \\right)}$"
      ],
      "text/plain": [
       "sin(5*t)**2 + cos(5*t)**2"
      ]
     },
     "execution_count": 7,
     "metadata": {},
     "output_type": "execute_result"
    }
   ],
   "source": [
    "A.det()"
   ]
  },
  {
   "cell_type": "code",
   "execution_count": 8,
   "metadata": {},
   "outputs": [
    {
     "data": {
      "text/plain": [
       "{-sqrt((cos(5*t) - 1)*(cos(5*t) + 1)) + cos(5*t): 1,\n",
       " sqrt((cos(5*t) - 1)*(cos(5*t) + 1)) + cos(5*t): 1}"
      ]
     },
     "execution_count": 8,
     "metadata": {},
     "output_type": "execute_result"
    }
   ],
   "source": [
    "A.eigenvals()"
   ]
  },
  {
   "cell_type": "code",
   "execution_count": 23,
   "metadata": {},
   "outputs": [
    {
     "data": {
      "text/latex": [
       "$\\displaystyle \\left( - \\sqrt{\\left(\\cos{\\left(5 t \\right)} - 1\\right) \\left(\\cos{\\left(5 t \\right)} + 1\\right)} + \\cos{\\left(5 t \\right)}, \\  1, \\  \\left[ \\left[\\begin{matrix}- \\frac{\\sin{\\left(5 t \\right)}}{\\sqrt{\\left(\\cos{\\left(5 t \\right)} - 1\\right) \\left(\\cos{\\left(5 t \\right)} + 1\\right)}}\\\\1\\end{matrix}\\right]\\right]\\right)$"
      ],
      "text/plain": [
       "⎛                                                   ⎡⎡            -sin(5⋅t)   \n",
       "⎜                                                   ⎢⎢────────────────────────\n",
       "⎜    _______________________________                ⎢⎢  ______________________\n",
       "⎜- ╲╱ (cos(5⋅t) - 1)⋅(cos(5⋅t) + 1)  + cos(5⋅t), 1, ⎢⎢╲╱ (cos(5⋅t) - 1)⋅(cos(5\n",
       "⎜                                                   ⎢⎢                        \n",
       "⎝                                                   ⎣⎣                1       \n",
       "\n",
       "         ⎤⎤⎞\n",
       "─────────⎥⎥⎟\n",
       "_________⎥⎥⎟\n",
       "⋅t) + 1) ⎥⎥⎟\n",
       "         ⎥⎥⎟\n",
       "         ⎦⎦⎠"
      ]
     },
     "execution_count": 23,
     "metadata": {},
     "output_type": "execute_result"
    }
   ],
   "source": [
    "A.eigenvects()"
   ]
  },
  {
   "cell_type": "code",
   "execution_count": 24,
   "metadata": {},
   "outputs": [
    {
     "data": {
      "text/latex": [
       "$\\displaystyle \\left( \\sqrt{\\left(\\cos{\\left(5 t \\right)} - 1\\right) \\left(\\cos{\\left(5 t \\right)} + 1\\right)} + \\cos{\\left(5 t \\right)}, \\  1, \\  \\left[ \\left[\\begin{matrix}\\frac{\\sin{\\left(5 t \\right)}}{\\sqrt{\\left(\\cos{\\left(5 t \\right)} - 1\\right) \\left(\\cos{\\left(5 t \\right)} + 1\\right)}}\\\\1\\end{matrix}\\right]\\right]\\right)$"
      ],
      "text/plain": [
       "⎛                                                 ⎡⎡             sin(5⋅t)     \n",
       "⎜                                                 ⎢⎢──────────────────────────\n",
       "⎜  _______________________________                ⎢⎢  ________________________\n",
       "⎜╲╱ (cos(5⋅t) - 1)⋅(cos(5⋅t) + 1)  + cos(5⋅t), 1, ⎢⎢╲╱ (cos(5⋅t) - 1)⋅(cos(5⋅t\n",
       "⎜                                                 ⎢⎢                          \n",
       "⎝                                                 ⎣⎣                1         \n",
       "\n",
       "       ⎤⎤⎞\n",
       "───────⎥⎥⎟\n",
       "_______⎥⎥⎟\n",
       ") + 1) ⎥⎥⎟\n",
       "       ⎥⎥⎟\n",
       "       ⎦⎦⎠"
      ]
     },
     "execution_count": 24,
     "metadata": {},
     "output_type": "execute_result"
    }
   ],
   "source": [
    "vec"
   ]
  },
  {
   "cell_type": "code",
   "execution_count": 16,
   "metadata": {},
   "outputs": [],
   "source": [
    "P, D = A.diagonalize()"
   ]
  },
  {
   "cell_type": "markdown",
   "metadata": {},
   "source": [
    "## 矩阵的一个应用\n",
    "\n",
    "邻接矩阵的k方幂中非零项代表存在k长路在两点之间，因此可以通过邻接矩阵计算可达矩阵"
   ]
  },
  {
   "cell_type": "code",
   "execution_count": 3,
   "metadata": {},
   "outputs": [
    {
     "data": {
      "text/latex": [
       "$\\displaystyle \\left[\\begin{matrix}0 & 1 & 1 & 1\\\\0 & 0 & 1 & 0\\\\0 & 0 & 0 & 0\\\\0 & 1 & 1 & 0\\end{matrix}\\right]$"
      ],
      "text/plain": [
       "Matrix([\n",
       "[0, 1, 1, 1],\n",
       "[0, 0, 1, 0],\n",
       "[0, 0, 0, 0],\n",
       "[0, 1, 1, 0]])"
      ]
     },
     "execution_count": 3,
     "metadata": {},
     "output_type": "execute_result"
    }
   ],
   "source": [
    "M = Matrix([[0,1,1,1],[0,0,1,0],[0,0,0,0],[0,1,1,0]])\n",
    "M"
   ]
  },
  {
   "cell_type": "code",
   "execution_count": 4,
   "metadata": {},
   "outputs": [
    {
     "data": {
      "text/latex": [
       "$\\displaystyle \\left[\\begin{matrix}0 & 2 & 4 & 1\\\\0 & 0 & 1 & 0\\\\0 & 0 & 0 & 0\\\\0 & 1 & 2 & 0\\end{matrix}\\right]$"
      ],
      "text/plain": [
       "Matrix([\n",
       "[0, 2, 4, 1],\n",
       "[0, 0, 1, 0],\n",
       "[0, 0, 0, 0],\n",
       "[0, 1, 2, 0]])"
      ]
     },
     "execution_count": 4,
     "metadata": {},
     "output_type": "execute_result"
    }
   ],
   "source": [
    "M+M**2+M**3"
   ]
  },
  {
   "cell_type": "code",
   "execution_count": null,
   "metadata": {},
   "outputs": [],
   "source": []
  }
 ],
 "metadata": {
  "kernelspec": {
   "display_name": "Python 3",
   "language": "python",
   "name": "python3"
  },
  "language_info": {
   "codemirror_mode": {
    "name": "ipython",
    "version": 3
   },
   "file_extension": ".py",
   "mimetype": "text/x-python",
   "name": "python",
   "nbconvert_exporter": "python",
   "pygments_lexer": "ipython3",
   "version": "3.7.0"
  }
 },
 "nbformat": 4,
 "nbformat_minor": 4
}
