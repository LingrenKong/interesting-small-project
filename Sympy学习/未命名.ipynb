{
 "cells": [
  {
   "cell_type": "code",
   "execution_count": 1,
   "metadata": {},
   "outputs": [],
   "source": [
    "from sympy import *"
   ]
  },
  {
   "cell_type": "code",
   "execution_count": 10,
   "metadata": {},
   "outputs": [],
   "source": [
    "u = Function('u')\n",
    "x = Symbol('x')\n",
    "a = Symbol('a')\n",
    "b = Symbol(r'\\frac{\\rho_0 g}{E_0}')"
   ]
  },
  {
   "cell_type": "code",
   "execution_count": 11,
   "metadata": {},
   "outputs": [
    {
     "data": {
      "text/latex": [
       "$\\displaystyle \\frac{\\rho_0 g}{E_0}$"
      ],
      "text/plain": [
       "\\frac{\\rho_0 g}{E_0}"
      ]
     },
     "execution_count": 11,
     "metadata": {},
     "output_type": "execute_result"
    }
   ],
   "source": [
    "b"
   ]
  },
  {
   "cell_type": "code",
   "execution_count": 12,
   "metadata": {},
   "outputs": [
    {
     "data": {
      "text/latex": [
       "$\\displaystyle \\frac{\\rho_0 g}{E_0} - a \\frac{d}{d x} u{\\left(x \\right)} + \\frac{d^{2}}{d x^{2}} u{\\left(x \\right)} = 0$"
      ],
      "text/plain": [
       "Eq(\\frac{\\rho_0 g}{E_0} - a*Derivative(u(x), x) + Derivative(u(x), (x, 2)), 0)"
      ]
     },
     "execution_count": 12,
     "metadata": {},
     "output_type": "execute_result"
    }
   ],
   "source": [
    "q = Eq(u(x).diff(x,2)-a*u(x).diff()+b,0)\n",
    "q"
   ]
  },
  {
   "cell_type": "code",
   "execution_count": 13,
   "metadata": {},
   "outputs": [
    {
     "data": {
      "text/latex": [
       "$\\displaystyle u{\\left(x \\right)} = C_{1} + C_{2} e^{a x} + \\frac{\\frac{\\rho_0 g}{E_0} x}{a}$"
      ],
      "text/plain": [
       "Eq(u(x), C1 + C2*exp(a*x) + \\frac{\\rho_0 g}{E_0}*x/a)"
      ]
     },
     "execution_count": 13,
     "metadata": {},
     "output_type": "execute_result"
    }
   ],
   "source": [
    "dsolve(q)"
   ]
  },
  {
   "cell_type": "code",
   "execution_count": 15,
   "metadata": {},
   "outputs": [
    {
     "data": {
      "text/latex": [
       "$\\displaystyle u{\\left(x \\right)} = C_{1} + C_{2} e^{a x} + \\frac{\\frac{\\rho_0 g}{E_0} x}{a}$"
      ],
      "text/plain": [
       "Eq(u(x), C1 + C2*exp(a*x) + \\frac{\\rho_0 g}{E_0}*x/a)"
      ]
     },
     "execution_count": 15,
     "metadata": {},
     "output_type": "execute_result"
    }
   ],
   "source": []
  },
  {
   "cell_type": "code",
   "execution_count": null,
   "metadata": {},
   "outputs": [],
   "source": []
  }
 ],
 "metadata": {
  "kernelspec": {
   "display_name": "Python 3",
   "language": "python",
   "name": "python3"
  },
  "language_info": {
   "codemirror_mode": {
    "name": "ipython",
    "version": 3
   },
   "file_extension": ".py",
   "mimetype": "text/x-python",
   "name": "python",
   "nbconvert_exporter": "python",
   "pygments_lexer": "ipython3",
   "version": "3.7.0"
  }
 },
 "nbformat": 4,
 "nbformat_minor": 4
}
