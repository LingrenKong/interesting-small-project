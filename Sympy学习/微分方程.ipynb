{
 "cells": [
  {
   "cell_type": "code",
   "execution_count": 1,
   "metadata": {},
   "outputs": [],
   "source": [
    "from sympy.abc import x,t\n",
    "from sympy import *#Function, dsolve, Eq, Derivative\n",
    "f = Function('f')"
   ]
  },
  {
   "cell_type": "code",
   "execution_count": 4,
   "metadata": {},
   "outputs": [],
   "source": [
    "q = Eq(f(t).diff(t,2)+f(t),abs(3*sin(2*t)))"
   ]
  },
  {
   "cell_type": "code",
   "execution_count": 5,
   "metadata": {},
   "outputs": [
    {
     "data": {
      "text/latex": [
       "$\\displaystyle f{\\left(t \\right)} + \\frac{d^{2}}{d t^{2}} f{\\left(t \\right)} = 3 \\left|{\\sin{\\left(2 t \\right)}}\\right|$"
      ],
      "text/plain": [
       "Eq(f(t) + Derivative(f(t), (t, 2)), 3*Abs(sin(2*t)))"
      ]
     },
     "execution_count": 5,
     "metadata": {},
     "output_type": "execute_result"
    }
   ],
   "source": [
    "q"
   ]
  },
  {
   "cell_type": "code",
   "execution_count": 6,
   "metadata": {},
   "outputs": [
    {
     "data": {
      "text/latex": [
       "$\\displaystyle f{\\left(t \\right)} = \\left(C_{1} - 3 \\int \\sin{\\left(t \\right)} \\left|{\\sin{\\left(2 t \\right)}}\\right|\\, dt\\right) \\cos{\\left(t \\right)} + \\left(C_{2} + 3 \\int \\cos{\\left(t \\right)} \\left|{\\sin{\\left(2 t \\right)}}\\right|\\, dt\\right) \\sin{\\left(t \\right)}$"
      ],
      "text/plain": [
       "Eq(f(t), (C1 - 3*Integral(sin(t)*Abs(sin(2*t)), t))*cos(t) + (C2 + 3*Integral(cos(t)*Abs(sin(2*t)), t))*sin(t))"
      ]
     },
     "execution_count": 6,
     "metadata": {},
     "output_type": "execute_result"
    }
   ],
   "source": [
    "dsolve(q)"
   ]
  },
  {
   "cell_type": "code",
   "execution_count": 7,
   "metadata": {},
   "outputs": [],
   "source": [
    "q = Eq((4*x-1)*f(x).diff(x,2)-2*(4*x-1)*f(x).diff(x)+8*f(x),0)"
   ]
  },
  {
   "cell_type": "code",
   "execution_count": 8,
   "metadata": {},
   "outputs": [
    {
     "data": {
      "text/latex": [
       "$\\displaystyle \\left(4 x - 1\\right) \\frac{d^{2}}{d x^{2}} f{\\left(x \\right)} - \\left(8 x - 2\\right) \\frac{d}{d x} f{\\left(x \\right)} + 8 f{\\left(x \\right)} = 0$"
      ],
      "text/plain": [
       "Eq((4*x - 1)*Derivative(f(x), (x, 2)) - (8*x - 2)*Derivative(f(x), x) + 8*f(x), 0)"
      ]
     },
     "execution_count": 8,
     "metadata": {},
     "output_type": "execute_result"
    }
   ],
   "source": [
    "q"
   ]
  },
  {
   "cell_type": "code",
   "execution_count": 11,
   "metadata": {},
   "outputs": [
    {
     "data": {
      "text/plain": [
       "{'2nd_power_series_ordinary': Eq(f(x), C2*(52*x**4/3 + 8*x**3 + 4*x**2 + 1) + C1*x*(13*x**3/3 + 2*x**2 + x + 1) + O(x**6)),\n",
       " 'best': Eq(f(x), C2*(52*x**4/3 + 8*x**3 + 4*x**2 + 1) + C1*x*(13*x**3/3 + 2*x**2 + x + 1) + O(x**6)),\n",
       " 'best_hint': '2nd_power_series_ordinary',\n",
       " 'default': '2nd_power_series_ordinary',\n",
       " 'order': 2}"
      ]
     },
     "execution_count": 11,
     "metadata": {},
     "output_type": "execute_result"
    }
   ],
   "source": [
    "dsolve(q,hint=\"all\")"
   ]
  },
  {
   "cell_type": "code",
   "execution_count": 9,
   "metadata": {},
   "outputs": [],
   "source": [
    "inte = Integral(1/2*t**5*exp(t),t)\n",
    "i1 = integrate(inte)"
   ]
  },
  {
   "cell_type": "code",
   "execution_count": 10,
   "metadata": {},
   "outputs": [],
   "source": [
    "inte = Integral(-t**4*exp(t),t)\n",
    "i2 =integrate(inte)"
   ]
  },
  {
   "cell_type": "code",
   "execution_count": 11,
   "metadata": {},
   "outputs": [],
   "source": [
    "inte = Integral(1/2*t**3*exp(t),t)\n",
    "i3 = integrate(inte)"
   ]
  },
  {
   "cell_type": "code",
   "execution_count": 13,
   "metadata": {},
   "outputs": [
    {
     "data": {
      "text/latex": [
       "$\\displaystyle \\left(0.5 t^{5} - 6.0 t^{4} + 38.5 t^{3} - 159.0 t^{2} + 405.0 t - 492.0\\right) e^{t}$"
      ],
      "text/plain": [
       "(0.5*t**5 - 6.0*t**4 + 38.5*t**3 - 159.0*t**2 + 405.0*t - 492.0)*exp(t)"
      ]
     },
     "execution_count": 13,
     "metadata": {},
     "output_type": "execute_result"
    }
   ],
   "source": [
    "isum = i1+i2+i3\n",
    "simplify(isum)"
   ]
  },
  {
   "cell_type": "code",
   "execution_count": 8,
   "metadata": {},
   "outputs": [
    {
     "data": {
      "text/latex": [
       "$\\displaystyle f{\\left(x \\right)} = x \\left(C_{1} + C_{2} x + C_{3} x^{2} + e^{x}\\right)$"
      ],
      "text/plain": [
       "Eq(f(x), x*(C1 + C2*x + C3*x**2 + exp(x)))"
      ]
     },
     "execution_count": 8,
     "metadata": {},
     "output_type": "execute_result"
    }
   ],
   "source": [
    "q = Eq(x**3*f(x).diff(x,3)-3*x**2*f(x).diff(x,2)+6*x*f(x).diff()-6*f(x),x**4*exp(x))\n",
    "dsolve(q)"
   ]
  },
  {
   "cell_type": "code",
   "execution_count": 4,
   "metadata": {},
   "outputs": [
    {
     "data": {
      "text/latex": [
       "$\\displaystyle f{\\left(x \\right)} = C_{1} + C_{2} e^{- 7 x} + C_{3} e^{- x}$"
      ],
      "text/plain": [
       "Eq(f(x), C1 + C2*exp(-7*x) + C3*exp(-x))"
      ]
     },
     "execution_count": 4,
     "metadata": {},
     "output_type": "execute_result"
    }
   ],
   "source": [
    "q = Eq(f(x).diff(x,3)+8*f(x).diff(x,2)+7*f(x).diff(),0)\n",
    "dsolve(q)"
   ]
  },
  {
   "cell_type": "code",
   "execution_count": 2,
   "metadata": {},
   "outputs": [
    {
     "data": {
      "text/latex": [
       "$\\displaystyle \\frac{d}{d x} f{\\left(x \\right)} = \\cos{\\left(\\left(- x + f{\\left(x \\right)}\\right) f{\\left(x \\right)} \\right)}$"
      ],
      "text/plain": [
       "Eq(Derivative(f(x), x), cos((-x + f(x))*f(x)))"
      ]
     },
     "execution_count": 2,
     "metadata": {},
     "output_type": "execute_result"
    }
   ],
   "source": [
    "q = Eq(f(x).diff(x),cos((f(x)-x)*f(x)))\n",
    "q"
   ]
  },
  {
   "cell_type": "code",
   "execution_count": 3,
   "metadata": {
    "collapsed": true,
    "jupyter": {
     "outputs_hidden": true
    }
   },
   "outputs": [
    {
     "data": {
      "text/latex": [
       "$\\displaystyle f{\\left(x \\right)} = x \\cos{\\left(C_{1}^{2} \\right)} + \\frac{x^{3} \\left(- 2 C_{1}^{2} \\sin^{2}{\\left(C_{1}^{2} \\right)} + 2 C_{1}^{2} \\cos^{2}{\\left(C_{1}^{2} \\right)} - C_{1}^{2} \\cos{\\left(C_{1}^{2} \\right)} + \\left(4 C_{1}^{2} \\sin^{2}{\\left(C_{1}^{2} \\right)} - 4 C_{1}^{2} \\cos^{2}{\\left(C_{1}^{2} \\right)} + 2 C_{1}^{2} \\cos{\\left(C_{1}^{2} \\right)} - 2 \\sin{\\left(C_{1}^{2} \\right)} \\cos{\\left(C_{1}^{2} \\right)} + \\sin{\\left(C_{1}^{2} \\right)}\\right) \\cos{\\left(C_{1}^{2} \\right)} + \\sin{\\left(C_{1}^{2} \\right)} \\cos{\\left(C_{1}^{2} \\right)}\\right)}{6} + \\frac{x^{5} \\left(8 C_{1}^{4} \\sin^{2}{\\left(C_{1}^{2} \\right)} - 8 C_{1}^{4} \\cos^{2}{\\left(C_{1}^{2} \\right)} + C_{1}^{4} \\cos{\\left(C_{1}^{2} \\right)} - C_{1}^{2} \\left(4 C_{1}^{2} \\sin^{2}{\\left(C_{1}^{2} \\right)} - 4 C_{1}^{2} \\cos^{2}{\\left(C_{1}^{2} \\right)} + 2 C_{1}^{2} \\cos{\\left(C_{1}^{2} \\right)} - 2 \\sin{\\left(C_{1}^{2} \\right)} \\cos{\\left(C_{1}^{2} \\right)} + \\sin{\\left(C_{1}^{2} \\right)}\\right) \\cos{\\left(C_{1}^{2} \\right)} + 4 C_{1}^{2} \\left(- 8 C_{1}^{2} \\sin{\\left(C_{1}^{2} \\right)} \\cos{\\left(C_{1}^{2} \\right)} + C_{1}^{2} \\sin{\\left(C_{1}^{2} \\right)} - 3 \\sin^{2}{\\left(C_{1}^{2} \\right)} + 3 \\cos^{2}{\\left(C_{1}^{2} \\right)} - \\cos{\\left(C_{1}^{2} \\right)}\\right) \\sin{\\left(C_{1}^{2} \\right)} + 2 C_{1}^{2} \\left(- 8 C_{1}^{2} \\sin{\\left(C_{1}^{2} \\right)} \\cos{\\left(C_{1}^{2} \\right)} + C_{1}^{2} \\sin{\\left(C_{1}^{2} \\right)} - \\left(4 C_{1}^{2} \\sin^{2}{\\left(C_{1}^{2} \\right)} - 4 C_{1}^{2} \\cos^{2}{\\left(C_{1}^{2} \\right)} + 2 C_{1}^{2} \\cos{\\left(C_{1}^{2} \\right)} - 2 \\sin{\\left(C_{1}^{2} \\right)} \\cos{\\left(C_{1}^{2} \\right)} + \\sin{\\left(C_{1}^{2} \\right)}\\right) \\sin{\\left(C_{1}^{2} \\right)} + \\left(16 C_{1}^{2} \\sin{\\left(C_{1}^{2} \\right)} \\cos{\\left(C_{1}^{2} \\right)} - 2 C_{1}^{2} \\sin{\\left(C_{1}^{2} \\right)} + 6 \\sin^{2}{\\left(C_{1}^{2} \\right)} - 6 \\cos^{2}{\\left(C_{1}^{2} \\right)} + 3 \\cos{\\left(C_{1}^{2} \\right)}\\right) \\cos{\\left(C_{1}^{2} \\right)} - 3 \\sin^{2}{\\left(C_{1}^{2} \\right)} + 3 \\cos^{2}{\\left(C_{1}^{2} \\right)} - \\cos{\\left(C_{1}^{2} \\right)}\\right) \\sin{\\left(C_{1}^{2} \\right)} - 12 C_{1}^{2} \\sin{\\left(C_{1}^{2} \\right)} \\cos{\\left(C_{1}^{2} \\right)} + \\left(- 16 C_{1}^{4} \\sin^{2}{\\left(C_{1}^{2} \\right)} + 16 C_{1}^{4} \\cos^{2}{\\left(C_{1}^{2} \\right)} - 2 C_{1}^{4} \\cos{\\left(C_{1}^{2} \\right)} + 40 C_{1}^{2} \\sin{\\left(C_{1}^{2} \\right)} \\cos{\\left(C_{1}^{2} \\right)} - 3 C_{1}^{2} \\sin{\\left(C_{1}^{2} \\right)} + 2 \\sin^{2}{\\left(C_{1}^{2} \\right)} - 2 \\cos^{2}{\\left(C_{1}^{2} \\right)}\\right) \\cos{\\left(C_{1}^{2} \\right)} + \\left(- 16 C_{1}^{4} \\sin^{2}{\\left(C_{1}^{2} \\right)} + 16 C_{1}^{4} \\cos^{2}{\\left(C_{1}^{2} \\right)} - 2 C_{1}^{4} \\cos{\\left(C_{1}^{2} \\right)} + 2 C_{1}^{2} \\left(4 C_{1}^{2} \\sin^{2}{\\left(C_{1}^{2} \\right)} - 4 C_{1}^{2} \\cos^{2}{\\left(C_{1}^{2} \\right)} + 2 C_{1}^{2} \\cos{\\left(C_{1}^{2} \\right)} - 2 \\sin{\\left(C_{1}^{2} \\right)} \\cos{\\left(C_{1}^{2} \\right)} + \\sin{\\left(C_{1}^{2} \\right)}\\right) \\cos{\\left(C_{1}^{2} \\right)} - 4 C_{1}^{2} \\left(- 8 C_{1}^{2} \\sin{\\left(C_{1}^{2} \\right)} \\cos{\\left(C_{1}^{2} \\right)} + C_{1}^{2} \\sin{\\left(C_{1}^{2} \\right)} - 3 \\sin^{2}{\\left(C_{1}^{2} \\right)} + 3 \\cos^{2}{\\left(C_{1}^{2} \\right)} - \\cos{\\left(C_{1}^{2} \\right)}\\right) \\sin{\\left(C_{1}^{2} \\right)} + 2 C_{1}^{2} \\left(16 C_{1}^{2} \\sin{\\left(C_{1}^{2} \\right)} \\cos{\\left(C_{1}^{2} \\right)} - 2 C_{1}^{2} \\sin{\\left(C_{1}^{2} \\right)} + 6 \\sin^{2}{\\left(C_{1}^{2} \\right)} - 6 \\cos^{2}{\\left(C_{1}^{2} \\right)} + 3 \\cos{\\left(C_{1}^{2} \\right)}\\right) \\sin{\\left(C_{1}^{2} \\right)} + 40 C_{1}^{2} \\sin{\\left(C_{1}^{2} \\right)} \\cos{\\left(C_{1}^{2} \\right)} - 3 C_{1}^{2} \\sin{\\left(C_{1}^{2} \\right)} + \\left(4 C_{1}^{2} \\sin^{2}{\\left(C_{1}^{2} \\right)} - 4 C_{1}^{2} \\cos^{2}{\\left(C_{1}^{2} \\right)} + 2 C_{1}^{2} \\cos{\\left(C_{1}^{2} \\right)} - 2 \\sin{\\left(C_{1}^{2} \\right)} \\cos{\\left(C_{1}^{2} \\right)} + \\sin{\\left(C_{1}^{2} \\right)}\\right) \\sin{\\left(C_{1}^{2} \\right)} + 2 \\left(16 C_{1}^{4} \\sin^{2}{\\left(C_{1}^{2} \\right)} - 16 C_{1}^{4} \\cos^{2}{\\left(C_{1}^{2} \\right)} + 2 C_{1}^{4} \\cos{\\left(C_{1}^{2} \\right)} - 48 C_{1}^{2} \\sin{\\left(C_{1}^{2} \\right)} \\cos{\\left(C_{1}^{2} \\right)} + 5 C_{1}^{2} \\sin{\\left(C_{1}^{2} \\right)} - 3 \\sin^{2}{\\left(C_{1}^{2} \\right)} + 3 \\cos^{2}{\\left(C_{1}^{2} \\right)} - \\cos{\\left(C_{1}^{2} \\right)}\\right) \\cos{\\left(C_{1}^{2} \\right)} + 2 \\sin^{2}{\\left(C_{1}^{2} \\right)} - 2 \\cos^{2}{\\left(C_{1}^{2} \\right)}\\right) \\cos{\\left(C_{1}^{2} \\right)} + \\left(- 16 C_{1}^{4} \\sin^{2}{\\left(C_{1}^{2} \\right)} + 16 C_{1}^{4} \\cos^{2}{\\left(C_{1}^{2} \\right)} - 2 C_{1}^{4} \\cos{\\left(C_{1}^{2} \\right)} + 2 C_{1}^{2} \\left(4 C_{1}^{2} \\sin^{2}{\\left(C_{1}^{2} \\right)} - 4 C_{1}^{2} \\cos^{2}{\\left(C_{1}^{2} \\right)} + 2 C_{1}^{2} \\cos{\\left(C_{1}^{2} \\right)} - 2 \\sin{\\left(C_{1}^{2} \\right)} \\cos{\\left(C_{1}^{2} \\right)} + \\sin{\\left(C_{1}^{2} \\right)}\\right) \\cos{\\left(C_{1}^{2} \\right)} - 4 C_{1}^{2} \\left(- 8 C_{1}^{2} \\sin{\\left(C_{1}^{2} \\right)} \\cos{\\left(C_{1}^{2} \\right)} + C_{1}^{2} \\sin{\\left(C_{1}^{2} \\right)} - 3 \\sin^{2}{\\left(C_{1}^{2} \\right)} + 3 \\cos^{2}{\\left(C_{1}^{2} \\right)} - \\cos{\\left(C_{1}^{2} \\right)}\\right) \\sin{\\left(C_{1}^{2} \\right)} + 2 C_{1}^{2} \\left(16 C_{1}^{2} \\sin{\\left(C_{1}^{2} \\right)} \\cos{\\left(C_{1}^{2} \\right)} - 2 C_{1}^{2} \\sin{\\left(C_{1}^{2} \\right)} + 6 \\sin^{2}{\\left(C_{1}^{2} \\right)} - 6 \\cos^{2}{\\left(C_{1}^{2} \\right)} + 3 \\cos{\\left(C_{1}^{2} \\right)}\\right) \\sin{\\left(C_{1}^{2} \\right)} - 4 C_{1}^{2} \\left(- 8 C_{1}^{2} \\sin{\\left(C_{1}^{2} \\right)} \\cos{\\left(C_{1}^{2} \\right)} + C_{1}^{2} \\sin{\\left(C_{1}^{2} \\right)} - \\left(4 C_{1}^{2} \\sin^{2}{\\left(C_{1}^{2} \\right)} - 4 C_{1}^{2} \\cos^{2}{\\left(C_{1}^{2} \\right)} + 2 C_{1}^{2} \\cos{\\left(C_{1}^{2} \\right)} - 2 \\sin{\\left(C_{1}^{2} \\right)} \\cos{\\left(C_{1}^{2} \\right)} + \\sin{\\left(C_{1}^{2} \\right)}\\right) \\sin{\\left(C_{1}^{2} \\right)} + \\left(16 C_{1}^{2} \\sin{\\left(C_{1}^{2} \\right)} \\cos{\\left(C_{1}^{2} \\right)} - 2 C_{1}^{2} \\sin{\\left(C_{1}^{2} \\right)} + 6 \\sin^{2}{\\left(C_{1}^{2} \\right)} - 6 \\cos^{2}{\\left(C_{1}^{2} \\right)} + 3 \\cos{\\left(C_{1}^{2} \\right)}\\right) \\cos{\\left(C_{1}^{2} \\right)} - 3 \\sin^{2}{\\left(C_{1}^{2} \\right)} + 3 \\cos^{2}{\\left(C_{1}^{2} \\right)} - \\cos{\\left(C_{1}^{2} \\right)}\\right) \\sin{\\left(C_{1}^{2} \\right)} + 40 C_{1}^{2} \\sin{\\left(C_{1}^{2} \\right)} \\cos{\\left(C_{1}^{2} \\right)} - 3 C_{1}^{2} \\sin{\\left(C_{1}^{2} \\right)} + \\left(4 C_{1}^{2} \\sin^{2}{\\left(C_{1}^{2} \\right)} - 4 C_{1}^{2} \\cos^{2}{\\left(C_{1}^{2} \\right)} + 2 C_{1}^{2} \\cos{\\left(C_{1}^{2} \\right)} - 2 \\sin{\\left(C_{1}^{2} \\right)} \\cos{\\left(C_{1}^{2} \\right)} + \\sin{\\left(C_{1}^{2} \\right)}\\right) \\sin{\\left(C_{1}^{2} \\right)} + 2 \\left(16 C_{1}^{4} \\sin^{2}{\\left(C_{1}^{2} \\right)} - 16 C_{1}^{4} \\cos^{2}{\\left(C_{1}^{2} \\right)} + 2 C_{1}^{4} \\cos{\\left(C_{1}^{2} \\right)} - 48 C_{1}^{2} \\sin{\\left(C_{1}^{2} \\right)} \\cos{\\left(C_{1}^{2} \\right)} + 5 C_{1}^{2} \\sin{\\left(C_{1}^{2} \\right)} - 3 \\sin^{2}{\\left(C_{1}^{2} \\right)} + 3 \\cos^{2}{\\left(C_{1}^{2} \\right)} - \\cos{\\left(C_{1}^{2} \\right)}\\right) \\cos{\\left(C_{1}^{2} \\right)} + 2 \\left(16 C_{1}^{4} \\sin^{2}{\\left(C_{1}^{2} \\right)} - 16 C_{1}^{4} \\cos^{2}{\\left(C_{1}^{2} \\right)} + 2 C_{1}^{4} \\cos{\\left(C_{1}^{2} \\right)} - 2 C_{1}^{2} \\left(4 C_{1}^{2} \\sin^{2}{\\left(C_{1}^{2} \\right)} - 4 C_{1}^{2} \\cos^{2}{\\left(C_{1}^{2} \\right)} + 2 C_{1}^{2} \\cos{\\left(C_{1}^{2} \\right)} - 2 \\sin{\\left(C_{1}^{2} \\right)} \\cos{\\left(C_{1}^{2} \\right)} + \\sin{\\left(C_{1}^{2} \\right)}\\right) \\cos{\\left(C_{1}^{2} \\right)} - 4 C_{1}^{2} \\left(16 C_{1}^{2} \\sin{\\left(C_{1}^{2} \\right)} \\cos{\\left(C_{1}^{2} \\right)} - 2 C_{1}^{2} \\sin{\\left(C_{1}^{2} \\right)} + 6 \\sin^{2}{\\left(C_{1}^{2} \\right)} - 6 \\cos^{2}{\\left(C_{1}^{2} \\right)} + 3 \\cos{\\left(C_{1}^{2} \\right)}\\right) \\sin{\\left(C_{1}^{2} \\right)} - 48 C_{1}^{2} \\sin{\\left(C_{1}^{2} \\right)} \\cos{\\left(C_{1}^{2} \\right)} + 5 C_{1}^{2} \\sin{\\left(C_{1}^{2} \\right)} + \\left(- 4 C_{1}^{2} \\sin^{2}{\\left(C_{1}^{2} \\right)} + 4 C_{1}^{2} \\cos^{2}{\\left(C_{1}^{2} \\right)} - 2 C_{1}^{2} \\cos{\\left(C_{1}^{2} \\right)} + 2 \\sin{\\left(C_{1}^{2} \\right)} \\cos{\\left(C_{1}^{2} \\right)} - \\sin{\\left(C_{1}^{2} \\right)}\\right) \\sin{\\left(C_{1}^{2} \\right)} + \\left(- 32 C_{1}^{4} \\sin^{2}{\\left(C_{1}^{2} \\right)} + 32 C_{1}^{4} \\cos^{2}{\\left(C_{1}^{2} \\right)} - 4 C_{1}^{4} \\cos{\\left(C_{1}^{2} \\right)} + 96 C_{1}^{2} \\sin{\\left(C_{1}^{2} \\right)} \\cos{\\left(C_{1}^{2} \\right)} - 12 C_{1}^{2} \\sin{\\left(C_{1}^{2} \\right)} + 6 \\sin^{2}{\\left(C_{1}^{2} \\right)} - 6 \\cos^{2}{\\left(C_{1}^{2} \\right)} + 3 \\cos{\\left(C_{1}^{2} \\right)}\\right) \\cos{\\left(C_{1}^{2} \\right)} - 3 \\sin^{2}{\\left(C_{1}^{2} \\right)} + 3 \\cos^{2}{\\left(C_{1}^{2} \\right)} - \\cos{\\left(C_{1}^{2} \\right)}\\right) \\cos{\\left(C_{1}^{2} \\right)} + 2 \\sin^{2}{\\left(C_{1}^{2} \\right)} - 2 \\cos^{2}{\\left(C_{1}^{2} \\right)}\\right) \\cos{\\left(C_{1}^{2} \\right)}\\right)}{120} + C_{1} + \\frac{C_{1} x^{2} \\left(1 - 2 \\cos{\\left(C_{1}^{2} \\right)}\\right) \\sin{\\left(C_{1}^{2} \\right)}}{2} + \\frac{C_{1} x^{4} \\left(8 C_{1}^{2} \\sin{\\left(C_{1}^{2} \\right)} \\cos{\\left(C_{1}^{2} \\right)} - C_{1}^{2} \\sin{\\left(C_{1}^{2} \\right)} + \\left(4 C_{1}^{2} \\sin^{2}{\\left(C_{1}^{2} \\right)} - 4 C_{1}^{2} \\cos^{2}{\\left(C_{1}^{2} \\right)} + 2 C_{1}^{2} \\cos{\\left(C_{1}^{2} \\right)} - 2 \\sin{\\left(C_{1}^{2} \\right)} \\cos{\\left(C_{1}^{2} \\right)} + \\sin{\\left(C_{1}^{2} \\right)}\\right) \\sin{\\left(C_{1}^{2} \\right)} + 2 \\left(- 8 C_{1}^{2} \\sin{\\left(C_{1}^{2} \\right)} \\cos{\\left(C_{1}^{2} \\right)} + C_{1}^{2} \\sin{\\left(C_{1}^{2} \\right)} - 3 \\sin^{2}{\\left(C_{1}^{2} \\right)} + 3 \\cos^{2}{\\left(C_{1}^{2} \\right)} - \\cos{\\left(C_{1}^{2} \\right)}\\right) \\cos{\\left(C_{1}^{2} \\right)} + 2 \\left(- 8 C_{1}^{2} \\sin{\\left(C_{1}^{2} \\right)} \\cos{\\left(C_{1}^{2} \\right)} + C_{1}^{2} \\sin{\\left(C_{1}^{2} \\right)} - \\left(4 C_{1}^{2} \\sin^{2}{\\left(C_{1}^{2} \\right)} - 4 C_{1}^{2} \\cos^{2}{\\left(C_{1}^{2} \\right)} + 2 C_{1}^{2} \\cos{\\left(C_{1}^{2} \\right)} - 2 \\sin{\\left(C_{1}^{2} \\right)} \\cos{\\left(C_{1}^{2} \\right)} + \\sin{\\left(C_{1}^{2} \\right)}\\right) \\sin{\\left(C_{1}^{2} \\right)} + \\left(16 C_{1}^{2} \\sin{\\left(C_{1}^{2} \\right)} \\cos{\\left(C_{1}^{2} \\right)} - 2 C_{1}^{2} \\sin{\\left(C_{1}^{2} \\right)} + 6 \\sin^{2}{\\left(C_{1}^{2} \\right)} - 6 \\cos^{2}{\\left(C_{1}^{2} \\right)} + 3 \\cos{\\left(C_{1}^{2} \\right)}\\right) \\cos{\\left(C_{1}^{2} \\right)} - 3 \\sin^{2}{\\left(C_{1}^{2} \\right)} + 3 \\cos^{2}{\\left(C_{1}^{2} \\right)} - \\cos{\\left(C_{1}^{2} \\right)}\\right) \\cos{\\left(C_{1}^{2} \\right)} + 2 \\sin^{2}{\\left(C_{1}^{2} \\right)} - 2 \\cos^{2}{\\left(C_{1}^{2} \\right)}\\right)}{24} + O\\left(x^{6}\\right)$"
      ],
      "text/plain": [
       "Eq(f(x), x*cos(C1**2) + x**3*(-2*C1**2*sin(C1**2)**2 + 2*C1**2*cos(C1**2)**2 - C1**2*cos(C1**2) + (4*C1**2*sin(C1**2)**2 - 4*C1**2*cos(C1**2)**2 + 2*C1**2*cos(C1**2) - 2*sin(C1**2)*cos(C1**2) + sin(C1**2))*cos(C1**2) + sin(C1**2)*cos(C1**2))/6 + x**5*(8*C1**4*sin(C1**2)**2 - 8*C1**4*cos(C1**2)**2 + C1**4*cos(C1**2) - C1**2*(4*C1**2*sin(C1**2)**2 - 4*C1**2*cos(C1**2)**2 + 2*C1**2*cos(C1**2) - 2*sin(C1**2)*cos(C1**2) + sin(C1**2))*cos(C1**2) + 4*C1**2*(-8*C1**2*sin(C1**2)*cos(C1**2) + C1**2*sin(C1**2) - 3*sin(C1**2)**2 + 3*cos(C1**2)**2 - cos(C1**2))*sin(C1**2) + 2*C1**2*(-8*C1**2*sin(C1**2)*cos(C1**2) + C1**2*sin(C1**2) - (4*C1**2*sin(C1**2)**2 - 4*C1**2*cos(C1**2)**2 + 2*C1**2*cos(C1**2) - 2*sin(C1**2)*cos(C1**2) + sin(C1**2))*sin(C1**2) + (16*C1**2*sin(C1**2)*cos(C1**2) - 2*C1**2*sin(C1**2) + 6*sin(C1**2)**2 - 6*cos(C1**2)**2 + 3*cos(C1**2))*cos(C1**2) - 3*sin(C1**2)**2 + 3*cos(C1**2)**2 - cos(C1**2))*sin(C1**2) - 12*C1**2*sin(C1**2)*cos(C1**2) + (-16*C1**4*sin(C1**2)**2 + 16*C1**4*cos(C1**2)**2 - 2*C1**4*cos(C1**2) + 40*C1**2*sin(C1**2)*cos(C1**2) - 3*C1**2*sin(C1**2) + 2*sin(C1**2)**2 - 2*cos(C1**2)**2)*cos(C1**2) + (-16*C1**4*sin(C1**2)**2 + 16*C1**4*cos(C1**2)**2 - 2*C1**4*cos(C1**2) + 2*C1**2*(4*C1**2*sin(C1**2)**2 - 4*C1**2*cos(C1**2)**2 + 2*C1**2*cos(C1**2) - 2*sin(C1**2)*cos(C1**2) + sin(C1**2))*cos(C1**2) - 4*C1**2*(-8*C1**2*sin(C1**2)*cos(C1**2) + C1**2*sin(C1**2) - 3*sin(C1**2)**2 + 3*cos(C1**2)**2 - cos(C1**2))*sin(C1**2) + 2*C1**2*(16*C1**2*sin(C1**2)*cos(C1**2) - 2*C1**2*sin(C1**2) + 6*sin(C1**2)**2 - 6*cos(C1**2)**2 + 3*cos(C1**2))*sin(C1**2) + 40*C1**2*sin(C1**2)*cos(C1**2) - 3*C1**2*sin(C1**2) + (4*C1**2*sin(C1**2)**2 - 4*C1**2*cos(C1**2)**2 + 2*C1**2*cos(C1**2) - 2*sin(C1**2)*cos(C1**2) + sin(C1**2))*sin(C1**2) + 2*(16*C1**4*sin(C1**2)**2 - 16*C1**4*cos(C1**2)**2 + 2*C1**4*cos(C1**2) - 48*C1**2*sin(C1**2)*cos(C1**2) + 5*C1**2*sin(C1**2) - 3*sin(C1**2)**2 + 3*cos(C1**2)**2 - cos(C1**2))*cos(C1**2) + 2*sin(C1**2)**2 - 2*cos(C1**2)**2)*cos(C1**2) + (-16*C1**4*sin(C1**2)**2 + 16*C1**4*cos(C1**2)**2 - 2*C1**4*cos(C1**2) + 2*C1**2*(4*C1**2*sin(C1**2)**2 - 4*C1**2*cos(C1**2)**2 + 2*C1**2*cos(C1**2) - 2*sin(C1**2)*cos(C1**2) + sin(C1**2))*cos(C1**2) - 4*C1**2*(-8*C1**2*sin(C1**2)*cos(C1**2) + C1**2*sin(C1**2) - 3*sin(C1**2)**2 + 3*cos(C1**2)**2 - cos(C1**2))*sin(C1**2) + 2*C1**2*(16*C1**2*sin(C1**2)*cos(C1**2) - 2*C1**2*sin(C1**2) + 6*sin(C1**2)**2 - 6*cos(C1**2)**2 + 3*cos(C1**2))*sin(C1**2) - 4*C1**2*(-8*C1**2*sin(C1**2)*cos(C1**2) + C1**2*sin(C1**2) - (4*C1**2*sin(C1**2)**2 - 4*C1**2*cos(C1**2)**2 + 2*C1**2*cos(C1**2) - 2*sin(C1**2)*cos(C1**2) + sin(C1**2))*sin(C1**2) + (16*C1**2*sin(C1**2)*cos(C1**2) - 2*C1**2*sin(C1**2) + 6*sin(C1**2)**2 - 6*cos(C1**2)**2 + 3*cos(C1**2))*cos(C1**2) - 3*sin(C1**2)**2 + 3*cos(C1**2)**2 - cos(C1**2))*sin(C1**2) + 40*C1**2*sin(C1**2)*cos(C1**2) - 3*C1**2*sin(C1**2) + (4*C1**2*sin(C1**2)**2 - 4*C1**2*cos(C1**2)**2 + 2*C1**2*cos(C1**2) - 2*sin(C1**2)*cos(C1**2) + sin(C1**2))*sin(C1**2) + 2*(16*C1**4*sin(C1**2)**2 - 16*C1**4*cos(C1**2)**2 + 2*C1**4*cos(C1**2) - 48*C1**2*sin(C1**2)*cos(C1**2) + 5*C1**2*sin(C1**2) - 3*sin(C1**2)**2 + 3*cos(C1**2)**2 - cos(C1**2))*cos(C1**2) + 2*(16*C1**4*sin(C1**2)**2 - 16*C1**4*cos(C1**2)**2 + 2*C1**4*cos(C1**2) - 2*C1**2*(4*C1**2*sin(C1**2)**2 - 4*C1**2*cos(C1**2)**2 + 2*C1**2*cos(C1**2) - 2*sin(C1**2)*cos(C1**2) + sin(C1**2))*cos(C1**2) - 4*C1**2*(16*C1**2*sin(C1**2)*cos(C1**2) - 2*C1**2*sin(C1**2) + 6*sin(C1**2)**2 - 6*cos(C1**2)**2 + 3*cos(C1**2))*sin(C1**2) - 48*C1**2*sin(C1**2)*cos(C1**2) + 5*C1**2*sin(C1**2) + (-4*C1**2*sin(C1**2)**2 + 4*C1**2*cos(C1**2)**2 - 2*C1**2*cos(C1**2) + 2*sin(C1**2)*cos(C1**2) - sin(C1**2))*sin(C1**2) + (-32*C1**4*sin(C1**2)**2 + 32*C1**4*cos(C1**2)**2 - 4*C1**4*cos(C1**2) + 96*C1**2*sin(C1**2)*cos(C1**2) - 12*C1**2*sin(C1**2) + 6*sin(C1**2)**2 - 6*cos(C1**2)**2 + 3*cos(C1**2))*cos(C1**2) - 3*sin(C1**2)**2 + 3*cos(C1**2)**2 - cos(C1**2))*cos(C1**2) + 2*sin(C1**2)**2 - 2*cos(C1**2)**2)*cos(C1**2))/120 + C1 + C1*x**2*(1 - 2*cos(C1**2))*sin(C1**2)/2 + C1*x**4*(8*C1**2*sin(C1**2)*cos(C1**2) - C1**2*sin(C1**2) + (4*C1**2*sin(C1**2)**2 - 4*C1**2*cos(C1**2)**2 + 2*C1**2*cos(C1**2) - 2*sin(C1**2)*cos(C1**2) + sin(C1**2))*sin(C1**2) + 2*(-8*C1**2*sin(C1**2)*cos(C1**2) + C1**2*sin(C1**2) - 3*sin(C1**2)**2 + 3*cos(C1**2)**2 - cos(C1**2))*cos(C1**2) + 2*(-8*C1**2*sin(C1**2)*cos(C1**2) + C1**2*sin(C1**2) - (4*C1**2*sin(C1**2)**2 - 4*C1**2*cos(C1**2)**2 + 2*C1**2*cos(C1**2) - 2*sin(C1**2)*cos(C1**2) + sin(C1**2))*sin(C1**2) + (16*C1**2*sin(C1**2)*cos(C1**2) - 2*C1**2*sin(C1**2) + 6*sin(C1**2)**2 - 6*cos(C1**2)**2 + 3*cos(C1**2))*cos(C1**2) - 3*sin(C1**2)**2 + 3*cos(C1**2)**2 - cos(C1**2))*cos(C1**2) + 2*sin(C1**2)**2 - 2*cos(C1**2)**2)/24 + O(x**6))"
      ]
     },
     "execution_count": 3,
     "metadata": {},
     "output_type": "execute_result"
    }
   ],
   "source": []
  },
  {
   "cell_type": "code",
   "execution_count": 5,
   "metadata": {},
   "outputs": [
    {
     "data": {
      "text/latex": [
       "$\\displaystyle f{\\left(x \\right)} = - \\frac{2 x^{5} r{\\left(3 \\right)}}{5} + C_{2} \\left(\\frac{5 x^{4}}{12} - x^{2} + 1\\right) + C_{1} x \\left(1 - \\frac{x^{4}}{20}\\right) + O\\left(x^{6}\\right)$"
      ],
      "text/plain": [
       "Eq(f(x), -2*x**5*r(3)/5 + C2*(5*x**4/12 - x**2 + 1) + C1*x*(1 - x**4/20) + O(x**6))"
      ]
     },
     "execution_count": 5,
     "metadata": {},
     "output_type": "execute_result"
    }
   ],
   "source": [
    "f = Function('f')\n",
    "q = Eq(f(x).diff(x,2)+2*x*f(x).diff()+(x**2+2)*f(x),0)\n",
    "dsolve(q)"
   ]
  },
  {
   "cell_type": "code",
   "execution_count": 6,
   "metadata": {},
   "outputs": [
    {
     "data": {
      "text/latex": [
       "$\\displaystyle 2 x \\frac{d}{d x} f{\\left(x \\right)} + \\left(x^{2} + 2\\right) f{\\left(x \\right)} + \\frac{d^{2}}{d x^{2}} f{\\left(x \\right)} = 0$"
      ],
      "text/plain": [
       "Eq(2*x*Derivative(f(x), x) + (x**2 + 2)*f(x) + Derivative(f(x), (x, 2)), 0)"
      ]
     },
     "execution_count": 6,
     "metadata": {},
     "output_type": "execute_result"
    }
   ],
   "source": [
    "q"
   ]
  },
  {
   "cell_type": "code",
   "execution_count": null,
   "metadata": {
    "jupyter": {
     "source_hidden": true
    }
   },
   "outputs": [],
   "source": []
  }
 ],
 "metadata": {
  "kernelspec": {
   "display_name": "Python 3",
   "language": "python",
   "name": "python3"
  },
  "language_info": {
   "codemirror_mode": {
    "name": "ipython",
    "version": 3
   },
   "file_extension": ".py",
   "mimetype": "text/x-python",
   "name": "python",
   "nbconvert_exporter": "python",
   "pygments_lexer": "ipython3",
   "version": "3.7.0"
  }
 },
 "nbformat": 4,
 "nbformat_minor": 4
}
